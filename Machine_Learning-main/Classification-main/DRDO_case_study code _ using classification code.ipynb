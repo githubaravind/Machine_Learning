{
 "cells": [
  {
   "cell_type": "code",
   "execution_count": 1,
   "metadata": {
    "ExecuteTime": {
     "end_time": "2021-09-26T00:54:09.391859Z",
     "start_time": "2021-09-26T00:54:06.745670Z"
    },
    "colab": {},
    "colab_type": "code",
    "id": "cTI38I6hI5_T"
   },
   "outputs": [],
   "source": [
    "import pandas as pd"
   ]
  },
  {
   "cell_type": "code",
   "execution_count": 2,
   "metadata": {
    "ExecuteTime": {
     "end_time": "2021-09-26T00:54:15.793955Z",
     "start_time": "2021-09-26T00:54:15.501265Z"
    },
    "colab": {},
    "colab_type": "code",
    "id": "dX2K039bJCWz"
   },
   "outputs": [],
   "source": [
    "df = pd.read_csv(\"./sonar_csv.csv\")"
   ]
  },
  {
   "cell_type": "markdown",
   "metadata": {
    "colab": {},
    "colab_type": "code",
    "id": "c-zYq0kRJGK6"
   },
   "source": [
    "# Data analysis and preparation"
   ]
  },
  {
   "cell_type": "code",
   "execution_count": 3,
   "metadata": {
    "ExecuteTime": {
     "end_time": "2021-09-26T00:54:53.122147Z",
     "start_time": "2021-09-26T00:54:53.083251Z"
    },
    "colab": {
     "base_uri": "https://localhost:8080/",
     "height": 132
    },
    "colab_type": "code",
    "executionInfo": {
     "elapsed": 743,
     "status": "ok",
     "timestamp": 1570670016133,
     "user": {
      "displayName": "Dharmanath PATIL",
      "photoUrl": "https://lh3.googleusercontent.com/a-/AAuE7mC6ge8KNDISjWm-FphDTvfeEhrPZkXjmizWV21HJg=s64",
      "userId": "15515686314360430415"
     },
     "user_tz": -330
    },
    "id": "JgsGB3Q9OmAZ",
    "outputId": "0794aa1f-eb7b-492a-9e20-5d1b616bdf12"
   },
   "outputs": [
    {
     "data": {
      "text/html": [
       "<div>\n",
       "<style scoped>\n",
       "    .dataframe tbody tr th:only-of-type {\n",
       "        vertical-align: middle;\n",
       "    }\n",
       "\n",
       "    .dataframe tbody tr th {\n",
       "        vertical-align: top;\n",
       "    }\n",
       "\n",
       "    .dataframe thead th {\n",
       "        text-align: right;\n",
       "    }\n",
       "</style>\n",
       "<table border=\"1\" class=\"dataframe\">\n",
       "  <thead>\n",
       "    <tr style=\"text-align: right;\">\n",
       "      <th></th>\n",
       "      <th>attribute_1</th>\n",
       "      <th>attribute_2</th>\n",
       "      <th>attribute_3</th>\n",
       "      <th>attribute_4</th>\n",
       "      <th>attribute_5</th>\n",
       "      <th>attribute_6</th>\n",
       "      <th>attribute_7</th>\n",
       "      <th>attribute_8</th>\n",
       "      <th>attribute_9</th>\n",
       "      <th>attribute_10</th>\n",
       "      <th>...</th>\n",
       "      <th>attribute_52</th>\n",
       "      <th>attribute_53</th>\n",
       "      <th>attribute_54</th>\n",
       "      <th>attribute_55</th>\n",
       "      <th>attribute_56</th>\n",
       "      <th>attribute_57</th>\n",
       "      <th>attribute_58</th>\n",
       "      <th>attribute_59</th>\n",
       "      <th>attribute_60</th>\n",
       "      <th>Class</th>\n",
       "    </tr>\n",
       "  </thead>\n",
       "  <tbody>\n",
       "    <tr>\n",
       "      <th>0</th>\n",
       "      <td>0.0200</td>\n",
       "      <td>0.0371</td>\n",
       "      <td>0.0428</td>\n",
       "      <td>0.0207</td>\n",
       "      <td>0.0954</td>\n",
       "      <td>0.0986</td>\n",
       "      <td>0.1539</td>\n",
       "      <td>0.1601</td>\n",
       "      <td>0.3109</td>\n",
       "      <td>0.2111</td>\n",
       "      <td>...</td>\n",
       "      <td>0.0027</td>\n",
       "      <td>0.0065</td>\n",
       "      <td>0.0159</td>\n",
       "      <td>0.0072</td>\n",
       "      <td>0.0167</td>\n",
       "      <td>0.018</td>\n",
       "      <td>0.0084</td>\n",
       "      <td>0.0090</td>\n",
       "      <td>0.0032</td>\n",
       "      <td>Rock</td>\n",
       "    </tr>\n",
       "    <tr>\n",
       "      <th>1</th>\n",
       "      <td>0.0453</td>\n",
       "      <td>0.0523</td>\n",
       "      <td>0.0843</td>\n",
       "      <td>0.0689</td>\n",
       "      <td>0.1183</td>\n",
       "      <td>0.2583</td>\n",
       "      <td>0.2156</td>\n",
       "      <td>0.3481</td>\n",
       "      <td>0.3337</td>\n",
       "      <td>0.2872</td>\n",
       "      <td>...</td>\n",
       "      <td>0.0084</td>\n",
       "      <td>0.0089</td>\n",
       "      <td>0.0048</td>\n",
       "      <td>0.0094</td>\n",
       "      <td>0.0191</td>\n",
       "      <td>0.014</td>\n",
       "      <td>0.0049</td>\n",
       "      <td>0.0052</td>\n",
       "      <td>0.0044</td>\n",
       "      <td>Rock</td>\n",
       "    </tr>\n",
       "  </tbody>\n",
       "</table>\n",
       "<p>2 rows × 61 columns</p>\n",
       "</div>"
      ],
      "text/plain": [
       "   attribute_1  attribute_2  attribute_3  attribute_4  attribute_5  \\\n",
       "0       0.0200       0.0371       0.0428       0.0207       0.0954   \n",
       "1       0.0453       0.0523       0.0843       0.0689       0.1183   \n",
       "\n",
       "   attribute_6  attribute_7  attribute_8  attribute_9  attribute_10  ...  \\\n",
       "0       0.0986       0.1539       0.1601       0.3109        0.2111  ...   \n",
       "1       0.2583       0.2156       0.3481       0.3337        0.2872  ...   \n",
       "\n",
       "   attribute_52  attribute_53  attribute_54  attribute_55  attribute_56  \\\n",
       "0        0.0027        0.0065        0.0159        0.0072        0.0167   \n",
       "1        0.0084        0.0089        0.0048        0.0094        0.0191   \n",
       "\n",
       "   attribute_57  attribute_58  attribute_59  attribute_60  Class  \n",
       "0         0.018        0.0084        0.0090        0.0032   Rock  \n",
       "1         0.014        0.0049        0.0052        0.0044   Rock  \n",
       "\n",
       "[2 rows x 61 columns]"
      ]
     },
     "execution_count": 3,
     "metadata": {},
     "output_type": "execute_result"
    }
   ],
   "source": [
    "df.head(2)"
   ]
  },
  {
   "cell_type": "code",
   "execution_count": 4,
   "metadata": {
    "ExecuteTime": {
     "end_time": "2021-09-26T00:55:10.198978Z",
     "start_time": "2021-09-26T00:55:10.183021Z"
    },
    "colab": {
     "base_uri": "https://localhost:8080/",
     "height": 34
    },
    "colab_type": "code",
    "executionInfo": {
     "elapsed": 725,
     "status": "ok",
     "timestamp": 1570670061684,
     "user": {
      "displayName": "Dharmanath PATIL",
      "photoUrl": "https://lh3.googleusercontent.com/a-/AAuE7mC6ge8KNDISjWm-FphDTvfeEhrPZkXjmizWV21HJg=s64",
      "userId": "15515686314360430415"
     },
     "user_tz": -330
    },
    "id": "EbrikFYsOnM2",
    "outputId": "edf5920b-20cd-4983-8e4c-b5165f1f80bb"
   },
   "outputs": [
    {
     "data": {
      "text/plain": [
       "['Rock', 'Mine']"
      ]
     },
     "execution_count": 4,
     "metadata": {},
     "output_type": "execute_result"
    }
   ],
   "source": [
    "list(set(df['Class']))"
   ]
  },
  {
   "cell_type": "code",
   "execution_count": 11,
   "metadata": {
    "ExecuteTime": {
     "end_time": "2021-09-26T00:56:12.218807Z",
     "start_time": "2021-09-26T00:56:12.207836Z"
    }
   },
   "outputs": [
    {
     "name": "stdout",
     "output_type": "stream",
     "text": [
      "['attribute_1', 'attribute_2', 'attribute_3', 'attribute_4', 'attribute_5', 'attribute_6', 'attribute_7', 'attribute_8', 'attribute_9', 'attribute_10', 'attribute_11', 'attribute_12', 'attribute_13', 'attribute_14', 'attribute_15', 'attribute_16', 'attribute_17', 'attribute_18', 'attribute_19', 'attribute_20', 'attribute_21', 'attribute_22', 'attribute_23', 'attribute_24', 'attribute_25', 'attribute_26', 'attribute_27', 'attribute_28', 'attribute_29', 'attribute_30', 'attribute_31', 'attribute_32', 'attribute_33', 'attribute_34', 'attribute_35', 'attribute_36', 'attribute_37', 'attribute_38', 'attribute_39', 'attribute_40', 'attribute_41', 'attribute_42', 'attribute_43', 'attribute_44', 'attribute_45', 'attribute_46', 'attribute_47', 'attribute_48', 'attribute_49', 'attribute_50', 'attribute_51', 'attribute_52', 'attribute_53', 'attribute_54', 'attribute_55', 'attribute_56', 'attribute_57', 'attribute_58', 'attribute_59', 'attribute_60']\n"
     ]
    }
   ],
   "source": [
    "print(list(df.iloc[:,:-1]))"
   ]
  },
  {
   "cell_type": "code",
   "execution_count": 14,
   "metadata": {
    "ExecuteTime": {
     "end_time": "2021-09-26T00:57:45.856312Z",
     "start_time": "2021-09-26T00:57:45.842349Z"
    }
   },
   "outputs": [
    {
     "name": "stdout",
     "output_type": "stream",
     "text": [
      "   Weight    Name  Age\n",
      "0      45     Sam   14\n",
      "1      88  Andrea   25\n",
      "2      56    Alex   55\n",
      "3      15   Robin    8\n",
      "4      71     Kia   21\n",
      "[[45 'Sam' 14]\n",
      " [88 'Andrea' 25]\n",
      " [56 'Alex' 55]\n",
      " [15 'Robin' 8]\n",
      " [71 'Kia' 21]]\n"
     ]
    }
   ],
   "source": [
    "# importing pandas as pd\n",
    "\n",
    "# Creating the DataFrame\n",
    "df1 = pd.DataFrame({'Weight':[45, 88, 56, 15, 71],\n",
    "                   'Name':['Sam', 'Andrea', 'Alex', 'Robin', 'Kia'],\n",
    "                   'Age':[14, 25, 55, 8, 21]})\n",
    "  \n",
    "# Print the DataFrame\n",
    "print(df1)\n",
    "# return the numpy representation of \n",
    "# this dataframe\n",
    "result = df1.values\n",
    "  \n",
    "# Print the result\n",
    "print(result)"
   ]
  },
  {
   "cell_type": "code",
   "execution_count": 15,
   "metadata": {
    "ExecuteTime": {
     "end_time": "2021-09-26T00:58:11.146093Z",
     "start_time": "2021-09-26T00:58:11.134123Z"
    },
    "colab": {},
    "colab_type": "code",
    "id": "TTUQtSOaO7Jb"
   },
   "outputs": [],
   "source": [
    "# Pandas DataFrame.values attribute return a Numpy representation of the given DataFrame.\n",
    "\n",
    "X = df.iloc[:,:-1].values"
   ]
  },
  {
   "cell_type": "code",
   "execution_count": 16,
   "metadata": {
    "ExecuteTime": {
     "end_time": "2021-09-26T00:58:12.432060Z",
     "start_time": "2021-09-26T00:58:12.412112Z"
    },
    "colab": {
     "base_uri": "https://localhost:8080/",
     "height": 139
    },
    "colab_type": "code",
    "executionInfo": {
     "elapsed": 889,
     "status": "ok",
     "timestamp": 1570670174961,
     "user": {
      "displayName": "Dharmanath PATIL",
      "photoUrl": "https://lh3.googleusercontent.com/a-/AAuE7mC6ge8KNDISjWm-FphDTvfeEhrPZkXjmizWV21HJg=s64",
      "userId": "15515686314360430415"
     },
     "user_tz": -330
    },
    "id": "4U_VD5odPNax",
    "outputId": "574c7d33-d45b-4d89-b320-18543e88264f"
   },
   "outputs": [
    {
     "data": {
      "text/plain": [
       "array([[0.02  , 0.0371, 0.0428, ..., 0.0084, 0.009 , 0.0032],\n",
       "       [0.0453, 0.0523, 0.0843, ..., 0.0049, 0.0052, 0.0044],\n",
       "       [0.0262, 0.0582, 0.1099, ..., 0.0164, 0.0095, 0.0078],\n",
       "       ...,\n",
       "       [0.0522, 0.0437, 0.018 , ..., 0.0138, 0.0077, 0.0031],\n",
       "       [0.0303, 0.0353, 0.049 , ..., 0.0079, 0.0036, 0.0048],\n",
       "       [0.026 , 0.0363, 0.0136, ..., 0.0036, 0.0061, 0.0115]])"
      ]
     },
     "execution_count": 16,
     "metadata": {},
     "output_type": "execute_result"
    }
   ],
   "source": [
    "X"
   ]
  },
  {
   "cell_type": "code",
   "execution_count": 17,
   "metadata": {
    "ExecuteTime": {
     "end_time": "2021-09-26T00:58:13.054300Z",
     "start_time": "2021-09-26T00:58:13.047322Z"
    },
    "colab": {},
    "colab_type": "code",
    "id": "3Det4f9oPN8H"
   },
   "outputs": [],
   "source": [
    "y = df.iloc[:,-1].values"
   ]
  },
  {
   "cell_type": "code",
   "execution_count": 18,
   "metadata": {
    "ExecuteTime": {
     "end_time": "2021-09-26T00:58:14.992300Z",
     "start_time": "2021-09-26T00:58:14.979368Z"
    },
    "colab": {
     "base_uri": "https://localhost:8080/",
     "height": 486
    },
    "colab_type": "code",
    "executionInfo": {
     "elapsed": 726,
     "status": "ok",
     "timestamp": 1570670235481,
     "user": {
      "displayName": "Dharmanath PATIL",
      "photoUrl": "https://lh3.googleusercontent.com/a-/AAuE7mC6ge8KNDISjWm-FphDTvfeEhrPZkXjmizWV21HJg=s64",
      "userId": "15515686314360430415"
     },
     "user_tz": -330
    },
    "id": "h9HydivzPcQx",
    "outputId": "7dc72ce2-0e84-44a9-f8bd-6be595f2b9ac"
   },
   "outputs": [
    {
     "data": {
      "text/plain": [
       "array(['Rock', 'Rock', 'Rock', 'Rock', 'Rock'], dtype=object)"
      ]
     },
     "execution_count": 18,
     "metadata": {},
     "output_type": "execute_result"
    }
   ],
   "source": [
    "y[0:5]"
   ]
  },
  {
   "cell_type": "code",
   "execution_count": 19,
   "metadata": {
    "ExecuteTime": {
     "end_time": "2021-09-26T00:58:19.916843Z",
     "start_time": "2021-09-26T00:58:19.908864Z"
    },
    "colab": {
     "base_uri": "https://localhost:8080/",
     "height": 34
    },
    "colab_type": "code",
    "executionInfo": {
     "elapsed": 722,
     "status": "ok",
     "timestamp": 1570670248181,
     "user": {
      "displayName": "Dharmanath PATIL",
      "photoUrl": "https://lh3.googleusercontent.com/a-/AAuE7mC6ge8KNDISjWm-FphDTvfeEhrPZkXjmizWV21HJg=s64",
      "userId": "15515686314360430415"
     },
     "user_tz": -330
    },
    "id": "nH2GwBpbPcwP",
    "outputId": "2a8ce97c-3560-4607-8d20-836b37a79850"
   },
   "outputs": [
    {
     "data": {
      "text/plain": [
       "(208, 60)"
      ]
     },
     "execution_count": 19,
     "metadata": {},
     "output_type": "execute_result"
    }
   ],
   "source": [
    "X.shape"
   ]
  },
  {
   "cell_type": "code",
   "execution_count": 20,
   "metadata": {
    "ExecuteTime": {
     "end_time": "2021-09-26T00:58:20.697795Z",
     "start_time": "2021-09-26T00:58:20.689818Z"
    },
    "colab": {
     "base_uri": "https://localhost:8080/",
     "height": 34
    },
    "colab_type": "code",
    "executionInfo": {
     "elapsed": 777,
     "status": "ok",
     "timestamp": 1570670283727,
     "user": {
      "displayName": "Dharmanath PATIL",
      "photoUrl": "https://lh3.googleusercontent.com/a-/AAuE7mC6ge8KNDISjWm-FphDTvfeEhrPZkXjmizWV21HJg=s64",
      "userId": "15515686314360430415"
     },
     "user_tz": -330
    },
    "id": "6GBsju01Pf2R",
    "outputId": "52fdcd21-bdb1-451b-f1af-6b4dbabf54f9"
   },
   "outputs": [
    {
     "data": {
      "text/plain": [
       "(208,)"
      ]
     },
     "execution_count": 20,
     "metadata": {},
     "output_type": "execute_result"
    }
   ],
   "source": [
    "y.shape"
   ]
  },
  {
   "cell_type": "code",
   "execution_count": 21,
   "metadata": {
    "ExecuteTime": {
     "end_time": "2021-09-26T00:58:30.490128Z",
     "start_time": "2021-09-26T00:58:27.438676Z"
    },
    "colab": {},
    "colab_type": "code",
    "id": "ypEMOhLmPog8"
   },
   "outputs": [],
   "source": [
    "from sklearn.model_selection import train_test_split\n",
    "X_train, X_test, Y_train, Y_test = train_test_split(X,y,test_size=0.2, random_state=0)"
   ]
  },
  {
   "cell_type": "code",
   "execution_count": 22,
   "metadata": {
    "ExecuteTime": {
     "end_time": "2021-09-26T00:58:33.789492Z",
     "start_time": "2021-09-26T00:58:33.778520Z"
    },
    "colab": {
     "base_uri": "https://localhost:8080/",
     "height": 52
    },
    "colab_type": "code",
    "executionInfo": {
     "elapsed": 712,
     "status": "ok",
     "timestamp": 1570670423840,
     "user": {
      "displayName": "Dharmanath PATIL",
      "photoUrl": "https://lh3.googleusercontent.com/a-/AAuE7mC6ge8KNDISjWm-FphDTvfeEhrPZkXjmizWV21HJg=s64",
      "userId": "15515686314360430415"
     },
     "user_tz": -330
    },
    "id": "C00zdjlPQFLv",
    "outputId": "5228e661-9ee4-45b7-828a-e4008ba4584d"
   },
   "outputs": [
    {
     "name": "stdout",
     "output_type": "stream",
     "text": [
      "(166, 60)\n",
      "(166,)\n"
     ]
    }
   ],
   "source": [
    "print(X_train.shape)\n",
    "print(Y_train.shape)"
   ]
  },
  {
   "cell_type": "code",
   "execution_count": 23,
   "metadata": {
    "ExecuteTime": {
     "end_time": "2021-09-26T00:58:37.117000Z",
     "start_time": "2021-09-26T00:58:37.110020Z"
    },
    "colab": {
     "base_uri": "https://localhost:8080/",
     "height": 52
    },
    "colab_type": "code",
    "executionInfo": {
     "elapsed": 926,
     "status": "ok",
     "timestamp": 1570670482049,
     "user": {
      "displayName": "Dharmanath PATIL",
      "photoUrl": "https://lh3.googleusercontent.com/a-/AAuE7mC6ge8KNDISjWm-FphDTvfeEhrPZkXjmizWV21HJg=s64",
      "userId": "15515686314360430415"
     },
     "user_tz": -330
    },
    "id": "LIZQXFJMQKvJ",
    "outputId": "5dadd931-e585-4f38-d9e6-53ff8a440cf4"
   },
   "outputs": [
    {
     "name": "stdout",
     "output_type": "stream",
     "text": [
      "(42, 60)\n",
      "(42,)\n"
     ]
    }
   ],
   "source": [
    "print(X_test.shape)\n",
    "print(Y_test.shape)"
   ]
  },
  {
   "cell_type": "markdown",
   "metadata": {
    "colab_type": "text",
    "id": "VK-osnGdRBtm"
   },
   "source": [
    "# Logistic Regression"
   ]
  },
  {
   "cell_type": "code",
   "execution_count": 24,
   "metadata": {
    "ExecuteTime": {
     "end_time": "2021-09-26T00:58:53.342592Z",
     "start_time": "2021-09-26T00:58:52.445290Z"
    },
    "colab": {
     "base_uri": "https://localhost:8080/",
     "height": 269
    },
    "colab_type": "code",
    "executionInfo": {
     "elapsed": 1872,
     "status": "ok",
     "timestamp": 1570672647730,
     "user": {
      "displayName": "Dharmanath PATIL",
      "photoUrl": "https://lh3.googleusercontent.com/a-/AAuE7mC6ge8KNDISjWm-FphDTvfeEhrPZkXjmizWV21HJg=s64",
      "userId": "15515686314360430415"
     },
     "user_tz": -330
    },
    "id": "zOR4J4ikYB1T",
    "outputId": "49c875e9-e1f1-475b-c240-631ec0d2aa8a"
   },
   "outputs": [
    {
     "data": {
      "image/png": "[encoded data removed]",
      "text/plain": [
       "<Figure size 432x288 with 1 Axes>"
      ]
     },
     "metadata": {
      "needs_background": "light"
     },
     "output_type": "display_data"
    }
   ],
   "source": [
    "import matplotlib.pyplot as plt\n",
    "%matplotlib inline\n",
    "\n",
    "df.head(2)\n",
    "#Let's say the outlier is present after 0.12\n",
    "sdf = df[df['attribute_1']<0.12]\n",
    "plt.hist(sdf['attribute_1'])\n",
    "plt.show()"
   ]
  },
  {
   "cell_type": "code",
   "execution_count": 25,
   "metadata": {
    "ExecuteTime": {
     "end_time": "2021-09-26T00:58:55.492533Z",
     "start_time": "2021-09-26T00:58:55.304036Z"
    },
    "colab": {
     "base_uri": "https://localhost:8080/",
     "height": 269
    },
    "colab_type": "code",
    "executionInfo": {
     "elapsed": 1270,
     "status": "ok",
     "timestamp": 1570671044082,
     "user": {
      "displayName": "Dharmanath PATIL",
      "photoUrl": "https://lh3.googleusercontent.com/a-/AAuE7mC6ge8KNDISjWm-FphDTvfeEhrPZkXjmizWV21HJg=s64",
      "userId": "15515686314360430415"
     },
     "user_tz": -330
    },
    "id": "nwyWmEGNSY5M",
    "outputId": "a16460aa-8fab-409e-996b-2e1796c0e2da"
   },
   "outputs": [
    {
     "data": {
      "image/png": "[encoded data removed]",
      "text/plain": [
       "<Figure size 432x288 with 1 Axes>"
      ]
     },
     "metadata": {
      "needs_background": "light"
     },
     "output_type": "display_data"
    }
   ],
   "source": [
    "plt.hist(df['attribute_1'])\n",
    "plt.show()"
   ]
  },
  {
   "cell_type": "raw",
   "metadata": {
    "colab": {},
    "colab_type": "code",
    "id": "dqd1SWsdQY5M"
   },
   "source": [
    "# Assumptions:\n",
    "# 1. there is a linear relashionship between the logit of the outcome (dependent variable) and each predictor variables (independent variables)\n",
    "#         logit(p) = log(p/(1-p))\n",
    "# 2. there is no outliers in the predictors. seaborn boxplot\n",
    "# 3. there is no co-relation between the dependent variables"
   ]
  },
  {
   "cell_type": "code",
   "execution_count": 26,
   "metadata": {
    "ExecuteTime": {
     "end_time": "2021-09-26T00:59:20.801022Z",
     "start_time": "2021-09-26T00:59:20.101369Z"
    },
    "colab": {
     "base_uri": "https://localhost:8080/",
     "height": 159
    },
    "colab_type": "code",
    "executionInfo": {
     "elapsed": 732,
     "status": "ok",
     "timestamp": 1570671493209,
     "user": {
      "displayName": "Dharmanath PATIL",
      "photoUrl": "https://lh3.googleusercontent.com/a-/AAuE7mC6ge8KNDISjWm-FphDTvfeEhrPZkXjmizWV21HJg=s64",
      "userId": "15515686314360430415"
     },
     "user_tz": -330
    },
    "id": "r-KZoxAETmie",
    "outputId": "d7245dde-6398-4b1d-f276-55919125f96f"
   },
   "outputs": [
    {
     "data": {
      "text/plain": [
       "LogisticRegression(random_state=0)"
      ]
     },
     "execution_count": 26,
     "metadata": {},
     "output_type": "execute_result"
    }
   ],
   "source": [
    "# Training\n",
    "from sklearn.linear_model import LogisticRegression\n",
    "LR = LogisticRegression(random_state=0)\n",
    "LR.fit(X_train,Y_train)"
   ]
  },
  {
   "cell_type": "code",
   "execution_count": 27,
   "metadata": {
    "ExecuteTime": {
     "end_time": "2021-09-26T00:59:22.352037Z",
     "start_time": "2021-09-26T00:59:22.334085Z"
    },
    "colab": {},
    "colab_type": "code",
    "id": "mfyf_rYUUPzr"
   },
   "outputs": [],
   "source": [
    "# Testing\n",
    "LR_pred = LR.predict(X_test)"
   ]
  },
  {
   "cell_type": "code",
   "execution_count": 28,
   "metadata": {
    "ExecuteTime": {
     "end_time": "2021-09-26T00:59:23.630970Z",
     "start_time": "2021-09-26T00:59:23.624987Z"
    },
    "colab": {
     "base_uri": "https://localhost:8080/",
     "height": 121
    },
    "colab_type": "code",
    "executionInfo": {
     "elapsed": 737,
     "status": "ok",
     "timestamp": 1570671538126,
     "user": {
      "displayName": "Dharmanath PATIL",
      "photoUrl": "https://lh3.googleusercontent.com/a-/AAuE7mC6ge8KNDISjWm-FphDTvfeEhrPZkXjmizWV21HJg=s64",
      "userId": "15515686314360430415"
     },
     "user_tz": -330
    },
    "id": "8lrbIrnQUZhc",
    "outputId": "703b9271-3f8e-4cc1-facc-49efe182a2ff"
   },
   "outputs": [
    {
     "data": {
      "text/plain": [
       "array(['Rock', 'Mine', 'Mine', 'Rock', 'Mine', 'Mine', 'Mine', 'Mine',\n",
       "       'Rock', 'Mine', 'Rock', 'Mine', 'Rock', 'Mine', 'Rock', 'Rock',\n",
       "       'Mine', 'Rock', 'Rock', 'Rock', 'Mine', 'Rock', 'Mine', 'Mine',\n",
       "       'Rock', 'Mine', 'Mine', 'Mine', 'Rock', 'Mine', 'Rock', 'Mine',\n",
       "       'Mine', 'Rock', 'Mine', 'Mine', 'Mine', 'Mine', 'Rock', 'Mine',\n",
       "       'Mine', 'Mine'], dtype=object)"
      ]
     },
     "execution_count": 28,
     "metadata": {},
     "output_type": "execute_result"
    }
   ],
   "source": [
    "LR_pred"
   ]
  },
  {
   "cell_type": "code",
   "execution_count": 29,
   "metadata": {
    "ExecuteTime": {
     "end_time": "2021-09-26T00:59:24.574299Z",
     "start_time": "2021-09-26T00:59:24.564324Z"
    },
    "colab": {
     "base_uri": "https://localhost:8080/",
     "height": 121
    },
    "colab_type": "code",
    "executionInfo": {
     "elapsed": 699,
     "status": "ok",
     "timestamp": 1570671551058,
     "user": {
      "displayName": "Dharmanath PATIL",
      "photoUrl": "https://lh3.googleusercontent.com/a-/AAuE7mC6ge8KNDISjWm-FphDTvfeEhrPZkXjmizWV21HJg=s64",
      "userId": "15515686314360430415"
     },
     "user_tz": -330
    },
    "id": "nHCBmNhsUaxx",
    "outputId": "f51505d3-748d-4ad5-9854-f91f6ecc7370"
   },
   "outputs": [
    {
     "data": {
      "text/plain": [
       "array(['Rock', 'Rock', 'Rock', 'Rock', 'Mine', 'Rock', 'Mine', 'Mine',\n",
       "       'Rock', 'Mine', 'Rock', 'Mine', 'Rock', 'Mine', 'Rock', 'Rock',\n",
       "       'Mine', 'Rock', 'Rock', 'Rock', 'Mine', 'Rock', 'Rock', 'Rock',\n",
       "       'Rock', 'Mine', 'Mine', 'Mine', 'Mine', 'Mine', 'Rock', 'Mine',\n",
       "       'Mine', 'Rock', 'Mine', 'Mine', 'Mine', 'Mine', 'Rock', 'Mine',\n",
       "       'Mine', 'Rock'], dtype=object)"
      ]
     },
     "execution_count": 29,
     "metadata": {},
     "output_type": "execute_result"
    }
   ],
   "source": [
    "Y_test"
   ]
  },
  {
   "cell_type": "code",
   "execution_count": 30,
   "metadata": {
    "ExecuteTime": {
     "end_time": "2021-09-26T00:59:25.701241Z",
     "start_time": "2021-09-26T00:59:25.694293Z"
    },
    "colab": {
     "base_uri": "https://localhost:8080/",
     "height": 34
    },
    "colab_type": "code",
    "executionInfo": {
     "elapsed": 764,
     "status": "ok",
     "timestamp": 1570671627955,
     "user": {
      "displayName": "Dharmanath PATIL",
      "photoUrl": "https://lh3.googleusercontent.com/a-/AAuE7mC6ge8KNDISjWm-FphDTvfeEhrPZkXjmizWV21HJg=s64",
      "userId": "15515686314360430415"
     },
     "user_tz": -330
    },
    "id": "RfDfdnAtUd7x",
    "outputId": "146cc519-a339-47d5-e2fc-f97097b637e1"
   },
   "outputs": [
    {
     "data": {
      "text/plain": [
       "0.8333333333333334"
      ]
     },
     "execution_count": 30,
     "metadata": {},
     "output_type": "execute_result"
    }
   ],
   "source": [
    "from sklearn.metrics import accuracy_score\n",
    "accuracy_score(Y_test,LR_pred)"
   ]
  },
  {
   "cell_type": "raw",
   "metadata": {
    "colab": {},
    "colab_type": "code",
    "id": "_okrGownUpP-"
   },
   "source": [
    "## Test --> 50% Rock 50% Mine --> model predicts all the samples as Rock --> 50%\n",
    "## Test --> 80% Rock 20% Mine --> model predicts all the samples as Rock --> 80%"
   ]
  },
  {
   "cell_type": "code",
   "execution_count": 33,
   "metadata": {
    "ExecuteTime": {
     "end_time": "2021-09-26T01:00:44.762332Z",
     "start_time": "2021-09-26T01:00:44.751363Z"
    },
    "colab": {
     "base_uri": "https://localhost:8080/",
     "height": 52
    },
    "colab_type": "code",
    "executionInfo": {
     "elapsed": 562,
     "status": "ok",
     "timestamp": 1570671761756,
     "user": {
      "displayName": "Dharmanath PATIL",
      "photoUrl": "https://lh3.googleusercontent.com/a-/AAuE7mC6ge8KNDISjWm-FphDTvfeEhrPZkXjmizWV21HJg=s64",
      "userId": "15515686314360430415"
     },
     "user_tz": -330
    },
    "id": "A_8f48Z1VJTJ",
    "outputId": "7148e3f4-32e3-4a6d-b835-2734adaa3dd8"
   },
   "outputs": [
    {
     "data": {
      "text/plain": [
       "array([[20,  1],\n",
       "       [ 6, 15]], dtype=int64)"
      ]
     },
     "execution_count": 33,
     "metadata": {},
     "output_type": "execute_result"
    }
   ],
   "source": [
    "from sklearn.metrics import confusion_matrix\n",
    "confusion_matrix(Y_test,LR_pred)"
   ]
  },
  {
   "cell_type": "code",
   "execution_count": 34,
   "metadata": {
    "ExecuteTime": {
     "end_time": "2021-09-26T01:01:38.742222Z",
     "start_time": "2021-09-26T01:01:38.722275Z"
    },
    "colab": {},
    "colab_type": "code",
    "id": "ME9QUCZuVRan"
   },
   "outputs": [],
   "source": [
    "# Rock is been identified as Rock = 20\n",
    "# Rock is been identified as Mine = 1\n",
    "# Mine is been identified as Mine = 15\n",
    "# Mine is been identified as Rock = 6\n",
    "\n",
    "#           ROCK.  MINE\n",
    "  \n",
    "#   ROCK      19.    2\n",
    "#   MINE       7.    14\n",
    "  \n",
    "  \n",
    "  \n",
    "#             ROCK.  MINE\n",
    "  \n",
    "#   ROCK      19.    2\n",
    "#   MINE      14.    7\n",
    "  \n",
    " "
   ]
  },
  {
   "cell_type": "code",
   "execution_count": 35,
   "metadata": {
    "ExecuteTime": {
     "end_time": "2021-09-26T01:01:41.046257Z",
     "start_time": "2021-09-26T01:01:41.026310Z"
    },
    "colab": {
     "base_uri": "https://localhost:8080/",
     "height": 173
    },
    "colab_type": "code",
    "executionInfo": {
     "elapsed": 1571,
     "status": "ok",
     "timestamp": 1570672103407,
     "user": {
      "displayName": "Dharmanath PATIL",
      "photoUrl": "https://lh3.googleusercontent.com/a-/AAuE7mC6ge8KNDISjWm-FphDTvfeEhrPZkXjmizWV21HJg=s64",
      "userId": "15515686314360430415"
     },
     "user_tz": -330
    },
    "id": "9AxXgofYWS3u",
    "outputId": "87c43640-ea82-46dd-b080-d3127b46da23"
   },
   "outputs": [
    {
     "name": "stdout",
     "output_type": "stream",
     "text": [
      "              precision    recall  f1-score   support\n",
      "\n",
      "        Mine       0.77      0.95      0.85        21\n",
      "        Rock       0.94      0.71      0.81        21\n",
      "\n",
      "    accuracy                           0.83        42\n",
      "   macro avg       0.85      0.83      0.83        42\n",
      "weighted avg       0.85      0.83      0.83        42\n",
      "\n"
     ]
    }
   ],
   "source": [
    "from sklearn.metrics import classification_report\n",
    "print(classification_report(Y_test,LR_pred))"
   ]
  },
  {
   "cell_type": "markdown",
   "metadata": {
    "colab_type": "text",
    "id": "gg4SFn5wY2ZE"
   },
   "source": [
    "# Naive Bayes - GaussianNB"
   ]
  },
  {
   "cell_type": "markdown",
   "metadata": {
    "colab_type": "text",
    "id": "QMAs1-OVaFTo"
   },
   "source": [
    "there is no co-relation between the dependent variables"
   ]
  },
  {
   "cell_type": "code",
   "execution_count": 36,
   "metadata": {
    "ExecuteTime": {
     "end_time": "2021-09-26T01:02:19.342157Z",
     "start_time": "2021-09-26T01:02:19.324203Z"
    },
    "colab": {
     "base_uri": "https://localhost:8080/",
     "height": 34
    },
    "colab_type": "code",
    "executionInfo": {
     "elapsed": 702,
     "status": "ok",
     "timestamp": 1570672756808,
     "user": {
      "displayName": "Dharmanath PATIL",
      "photoUrl": "https://lh3.googleusercontent.com/a-/AAuE7mC6ge8KNDISjWm-FphDTvfeEhrPZkXjmizWV21HJg=s64",
      "userId": "15515686314360430415"
     },
     "user_tz": -330
    },
    "id": "TkUcQRr1WcGs",
    "outputId": "15eb0182-929e-48f6-fc9d-ac6bf89be457"
   },
   "outputs": [
    {
     "data": {
      "text/plain": [
       "GaussianNB()"
      ]
     },
     "execution_count": 36,
     "metadata": {},
     "output_type": "execute_result"
    }
   ],
   "source": [
    "from sklearn.naive_bayes import GaussianNB\n",
    "NB = GaussianNB()\n",
    "NB.fit(X_train,Y_train)"
   ]
  },
  {
   "cell_type": "code",
   "execution_count": 37,
   "metadata": {
    "ExecuteTime": {
     "end_time": "2021-09-26T01:02:20.270967Z",
     "start_time": "2021-09-26T01:02:20.256969Z"
    },
    "colab": {},
    "colab_type": "code",
    "id": "YCox1KVlZETX"
   },
   "outputs": [],
   "source": [
    "NB_pred = NB.predict(X_test)"
   ]
  },
  {
   "cell_type": "code",
   "execution_count": 38,
   "metadata": {
    "ExecuteTime": {
     "end_time": "2021-09-26T01:02:21.319295Z",
     "start_time": "2021-09-26T01:02:21.301343Z"
    },
    "colab": {
     "base_uri": "https://localhost:8080/",
     "height": 121
    },
    "colab_type": "code",
    "executionInfo": {
     "elapsed": 828,
     "status": "ok",
     "timestamp": 1570672781153,
     "user": {
      "displayName": "Dharmanath PATIL",
      "photoUrl": "https://lh3.googleusercontent.com/a-/AAuE7mC6ge8KNDISjWm-FphDTvfeEhrPZkXjmizWV21HJg=s64",
      "userId": "15515686314360430415"
     },
     "user_tz": -330
    },
    "id": "yjHpdd0XZIyx",
    "outputId": "9abde0f4-91b6-49ba-880e-96b03af69a2f"
   },
   "outputs": [
    {
     "data": {
      "text/plain": [
       "array(['Rock', 'Rock', 'Mine', 'Rock', 'Rock', 'Mine', 'Mine', 'Mine',\n",
       "       'Rock', 'Rock', 'Rock', 'Mine', 'Rock', 'Rock', 'Rock', 'Mine',\n",
       "       'Rock', 'Rock', 'Rock', 'Rock', 'Rock', 'Rock', 'Mine', 'Rock',\n",
       "       'Rock', 'Mine', 'Mine', 'Mine', 'Rock', 'Mine', 'Rock', 'Mine',\n",
       "       'Mine', 'Rock', 'Mine', 'Mine', 'Mine', 'Rock', 'Mine', 'Mine',\n",
       "       'Rock', 'Mine'], dtype='<U4')"
      ]
     },
     "execution_count": 38,
     "metadata": {},
     "output_type": "execute_result"
    }
   ],
   "source": [
    "NB_pred"
   ]
  },
  {
   "cell_type": "code",
   "execution_count": 39,
   "metadata": {
    "ExecuteTime": {
     "end_time": "2021-09-26T01:02:45.238959Z",
     "start_time": "2021-09-26T01:02:45.231979Z"
    },
    "colab": {
     "base_uri": "https://localhost:8080/",
     "height": 121
    },
    "colab_type": "code",
    "executionInfo": {
     "elapsed": 715,
     "status": "ok",
     "timestamp": 1570672792214,
     "user": {
      "displayName": "Dharmanath PATIL",
      "photoUrl": "https://lh3.googleusercontent.com/a-/AAuE7mC6ge8KNDISjWm-FphDTvfeEhrPZkXjmizWV21HJg=s64",
      "userId": "15515686314360430415"
     },
     "user_tz": -330
    },
    "id": "3OWGUxa5ZKOt",
    "outputId": "f62461a8-c52a-4062-8839-51d45d992e97"
   },
   "outputs": [
    {
     "data": {
      "text/plain": [
       "array(['Rock', 'Rock', 'Rock', 'Rock', 'Mine', 'Rock', 'Mine', 'Mine',\n",
       "       'Rock', 'Mine', 'Rock', 'Mine', 'Rock', 'Mine', 'Rock', 'Rock',\n",
       "       'Mine', 'Rock', 'Rock', 'Rock', 'Mine', 'Rock', 'Rock', 'Rock',\n",
       "       'Rock', 'Mine', 'Mine', 'Mine', 'Mine', 'Mine', 'Rock', 'Mine',\n",
       "       'Mine', 'Rock', 'Mine', 'Mine', 'Mine', 'Mine', 'Rock', 'Mine',\n",
       "       'Mine', 'Rock'], dtype=object)"
      ]
     },
     "execution_count": 39,
     "metadata": {},
     "output_type": "execute_result"
    }
   ],
   "source": [
    "Y_test"
   ]
  },
  {
   "cell_type": "code",
   "execution_count": 40,
   "metadata": {
    "ExecuteTime": {
     "end_time": "2021-09-26T01:02:46.436601Z",
     "start_time": "2021-09-26T01:02:46.430621Z"
    },
    "colab": {
     "base_uri": "https://localhost:8080/",
     "height": 34
    },
    "colab_type": "code",
    "executionInfo": {
     "elapsed": 734,
     "status": "ok",
     "timestamp": 1570672868896,
     "user": {
      "displayName": "Dharmanath PATIL",
      "photoUrl": "https://lh3.googleusercontent.com/a-/AAuE7mC6ge8KNDISjWm-FphDTvfeEhrPZkXjmizWV21HJg=s64",
      "userId": "15515686314360430415"
     },
     "user_tz": -330
    },
    "id": "gwdGD2zbZM8j",
    "outputId": "43c041ba-66b0-4039-a1ee-c2b269225c2d"
   },
   "outputs": [
    {
     "data": {
      "text/plain": [
       "0.6666666666666666"
      ]
     },
     "execution_count": 40,
     "metadata": {},
     "output_type": "execute_result"
    }
   ],
   "source": [
    "accuracy_score(Y_test,NB_pred)"
   ]
  },
  {
   "cell_type": "code",
   "execution_count": 41,
   "metadata": {
    "ExecuteTime": {
     "end_time": "2021-09-26T01:02:47.841715Z",
     "start_time": "2021-09-26T01:02:47.832739Z"
    },
    "colab": {
     "base_uri": "https://localhost:8080/",
     "height": 52
    },
    "colab_type": "code",
    "executionInfo": {
     "elapsed": 738,
     "status": "ok",
     "timestamp": 1570672890198,
     "user": {
      "displayName": "Dharmanath PATIL",
      "photoUrl": "https://lh3.googleusercontent.com/a-/AAuE7mC6ge8KNDISjWm-FphDTvfeEhrPZkXjmizWV21HJg=s64",
      "userId": "15515686314360430415"
     },
     "user_tz": -330
    },
    "id": "wb9H4_5CZfrF",
    "outputId": "17189fb0-061b-442d-b91f-de58bb07c15e"
   },
   "outputs": [
    {
     "data": {
      "text/plain": [
       "array([[13,  8],\n",
       "       [ 6, 15]], dtype=int64)"
      ]
     },
     "execution_count": 41,
     "metadata": {},
     "output_type": "execute_result"
    }
   ],
   "source": [
    "confusion_matrix(Y_test,NB_pred)"
   ]
  },
  {
   "cell_type": "code",
   "execution_count": 42,
   "metadata": {
    "ExecuteTime": {
     "end_time": "2021-09-26T01:02:50.265906Z",
     "start_time": "2021-09-26T01:02:50.253939Z"
    },
    "colab": {
     "base_uri": "https://localhost:8080/",
     "height": 173
    },
    "colab_type": "code",
    "executionInfo": {
     "elapsed": 707,
     "status": "ok",
     "timestamp": 1570672955851,
     "user": {
      "displayName": "Dharmanath PATIL",
      "photoUrl": "https://lh3.googleusercontent.com/a-/AAuE7mC6ge8KNDISjWm-FphDTvfeEhrPZkXjmizWV21HJg=s64",
      "userId": "15515686314360430415"
     },
     "user_tz": -330
    },
    "id": "CCsMbnY1Zk3p",
    "outputId": "b2314610-808e-47c3-8562-ac9a14c6cb40"
   },
   "outputs": [
    {
     "name": "stdout",
     "output_type": "stream",
     "text": [
      "              precision    recall  f1-score   support\n",
      "\n",
      "        Mine       0.68      0.62      0.65        21\n",
      "        Rock       0.65      0.71      0.68        21\n",
      "\n",
      "    accuracy                           0.67        42\n",
      "   macro avg       0.67      0.67      0.67        42\n",
      "weighted avg       0.67      0.67      0.67        42\n",
      "\n"
     ]
    }
   ],
   "source": [
    "print(classification_report(Y_test,NB_pred))"
   ]
  },
  {
   "cell_type": "markdown",
   "metadata": {
    "colab_type": "text",
    "id": "n2iorNtiaOir"
   },
   "source": [
    "# XGBoost"
   ]
  },
  {
   "cell_type": "code",
   "execution_count": 44,
   "metadata": {
    "ExecuteTime": {
     "end_time": "2021-09-26T01:04:28.176545Z",
     "start_time": "2021-09-26T01:03:27.546710Z"
    }
   },
   "outputs": [
    {
     "name": "stdout",
     "output_type": "stream",
     "text": [
      "Collecting xgboost\n",
      "  Downloading xgboost-1.4.2-py3-none-win_amd64.whl (97.8 MB)\n",
      "Requirement already satisfied: scipy in c:\\users\\anemati\\anaconda3\\envs\\tensorflow\\lib\\site-packages (from xgboost) (1.5.0)\n",
      "Requirement already satisfied: numpy in c:\\users\\anemati\\anaconda3\\envs\\tensorflow\\lib\\site-packages (from xgboost) (1.21.1)\n",
      "Installing collected packages: xgboost\n",
      "Successfully installed xgboost-1.4.2\n",
      "Note: you may need to restart the kernel to use updated packages.\n"
     ]
    }
   ],
   "source": [
    "pip install xgboost"
   ]
  },
  {
   "cell_type": "code",
   "execution_count": 45,
   "metadata": {
    "ExecuteTime": {
     "end_time": "2021-09-26T01:07:11.717503Z",
     "start_time": "2021-09-26T01:07:09.979960Z"
    },
    "colab": {
     "base_uri": "https://localhost:8080/",
     "height": 139
    },
    "colab_type": "code",
    "executionInfo": {
     "elapsed": 728,
     "status": "ok",
     "timestamp": 1570673128019,
     "user": {
      "displayName": "Dharmanath PATIL",
      "photoUrl": "https://lh3.googleusercontent.com/a-/AAuE7mC6ge8KNDISjWm-FphDTvfeEhrPZkXjmizWV21HJg=s64",
      "userId": "15515686314360430415"
     },
     "user_tz": -330
    },
    "id": "xY8yGoVuZ05y",
    "outputId": "ae45bddb-93bb-41cf-b84c-1268e2bff0c0"
   },
   "outputs": [
    {
     "name": "stdout",
     "output_type": "stream",
     "text": [
      "[20:07:11] WARNING: C:/Users/Administrator/workspace/xgboost-win64_release_1.4.0/src/learner.cc:1095: Starting in XGBoost 1.3.0, the default evaluation metric used with the objective 'binary:logistic' was changed from 'error' to 'logloss'. Explicitly set eval_metric if you'd like to restore the old behavior.\n"
     ]
    },
    {
     "name": "stderr",
     "output_type": "stream",
     "text": [
      "C:\\Users\\anemati\\Anaconda3\\envs\\tensorflow\\lib\\site-packages\\xgboost\\sklearn.py:1146: UserWarning: The use of label encoder in XGBClassifier is deprecated and will be removed in a future release. To remove this warning, do the following: 1) Pass option use_label_encoder=False when constructing XGBClassifier object; and 2) Encode your labels (y) as integers starting with 0, i.e. 0, 1, 2, ..., [num_class - 1].\n",
      "  warnings.warn(label_encoder_deprecation_msg, UserWarning)\n"
     ]
    },
    {
     "data": {
      "text/plain": [
       "XGBClassifier(base_score=0.5, booster='gbtree', colsample_bylevel=1,\n",
       "              colsample_bynode=1, colsample_bytree=1, gamma=0, gpu_id=-1,\n",
       "              importance_type='gain', interaction_constraints='',\n",
       "              learning_rate=0.300000012, max_delta_step=0, max_depth=6,\n",
       "              min_child_weight=1, missing=nan, monotone_constraints='()',\n",
       "              n_estimators=100, n_jobs=4, num_parallel_tree=1, random_state=0,\n",
       "              reg_alpha=0, reg_lambda=1, scale_pos_weight=1, subsample=1,\n",
       "              tree_method='exact', validate_parameters=1, verbosity=None)"
      ]
     },
     "execution_count": 45,
     "metadata": {},
     "output_type": "execute_result"
    }
   ],
   "source": [
    "from xgboost import XGBClassifier\n",
    "XGB = XGBClassifier()\n",
    "XGB.fit(X_train,Y_train)"
   ]
  },
  {
   "cell_type": "code",
   "execution_count": 46,
   "metadata": {
    "ExecuteTime": {
     "end_time": "2021-09-26T01:07:19.769811Z",
     "start_time": "2021-09-26T01:07:19.742884Z"
    },
    "colab": {},
    "colab_type": "code",
    "id": "PXLNfoTwae7y"
   },
   "outputs": [],
   "source": [
    "XGB_pred = XGB.predict(X_test)"
   ]
  },
  {
   "cell_type": "code",
   "execution_count": 47,
   "metadata": {
    "ExecuteTime": {
     "end_time": "2021-09-26T01:07:20.288423Z",
     "start_time": "2021-09-26T01:07:20.277453Z"
    },
    "colab": {
     "base_uri": "https://localhost:8080/",
     "height": 121
    },
    "colab_type": "code",
    "executionInfo": {
     "elapsed": 778,
     "status": "ok",
     "timestamp": 1570673157498,
     "user": {
      "displayName": "Dharmanath PATIL",
      "photoUrl": "https://lh3.googleusercontent.com/a-/AAuE7mC6ge8KNDISjWm-FphDTvfeEhrPZkXjmizWV21HJg=s64",
      "userId": "15515686314360430415"
     },
     "user_tz": -330
    },
    "id": "d3BrOAenalSC",
    "outputId": "0b8e74f6-c8f7-4b2e-e623-b460b79d73c5"
   },
   "outputs": [
    {
     "data": {
      "text/plain": [
       "array(['Rock', 'Rock', 'Mine', 'Rock', 'Mine', 'Rock', 'Mine', 'Mine',\n",
       "       'Rock', 'Rock', 'Rock', 'Mine', 'Rock', 'Mine', 'Rock', 'Rock',\n",
       "       'Mine', 'Rock', 'Rock', 'Rock', 'Mine', 'Rock', 'Mine', 'Rock',\n",
       "       'Rock', 'Mine', 'Mine', 'Mine', 'Mine', 'Mine', 'Rock', 'Mine',\n",
       "       'Rock', 'Rock', 'Mine', 'Mine', 'Mine', 'Mine', 'Mine', 'Mine',\n",
       "       'Mine', 'Rock'], dtype=object)"
      ]
     },
     "execution_count": 47,
     "metadata": {},
     "output_type": "execute_result"
    }
   ],
   "source": [
    "XGB_pred"
   ]
  },
  {
   "cell_type": "code",
   "execution_count": 48,
   "metadata": {
    "ExecuteTime": {
     "end_time": "2021-09-26T01:07:22.416915Z",
     "start_time": "2021-09-26T01:07:22.403950Z"
    },
    "colab": {
     "base_uri": "https://localhost:8080/",
     "height": 121
    },
    "colab_type": "code",
    "executionInfo": {
     "elapsed": 676,
     "status": "ok",
     "timestamp": 1570673163528,
     "user": {
      "displayName": "Dharmanath PATIL",
      "photoUrl": "https://lh3.googleusercontent.com/a-/AAuE7mC6ge8KNDISjWm-FphDTvfeEhrPZkXjmizWV21HJg=s64",
      "userId": "15515686314360430415"
     },
     "user_tz": -330
    },
    "id": "gn97-8tVamHv",
    "outputId": "27f68348-a582-4e05-fa85-6f9d8ad437c4"
   },
   "outputs": [
    {
     "data": {
      "text/plain": [
       "array(['Rock', 'Rock', 'Rock', 'Rock', 'Mine', 'Rock', 'Mine', 'Mine',\n",
       "       'Rock', 'Mine', 'Rock', 'Mine', 'Rock', 'Mine', 'Rock', 'Rock',\n",
       "       'Mine', 'Rock', 'Rock', 'Rock', 'Mine', 'Rock', 'Rock', 'Rock',\n",
       "       'Rock', 'Mine', 'Mine', 'Mine', 'Mine', 'Mine', 'Rock', 'Mine',\n",
       "       'Mine', 'Rock', 'Mine', 'Mine', 'Mine', 'Mine', 'Rock', 'Mine',\n",
       "       'Mine', 'Rock'], dtype=object)"
      ]
     },
     "execution_count": 48,
     "metadata": {},
     "output_type": "execute_result"
    }
   ],
   "source": [
    "Y_test"
   ]
  },
  {
   "cell_type": "code",
   "execution_count": 49,
   "metadata": {
    "ExecuteTime": {
     "end_time": "2021-09-26T01:07:23.420091Z",
     "start_time": "2021-09-26T01:07:23.406129Z"
    },
    "colab": {
     "base_uri": "https://localhost:8080/",
     "height": 34
    },
    "colab_type": "code",
    "executionInfo": {
     "elapsed": 654,
     "status": "ok",
     "timestamp": 1570673185242,
     "user": {
      "displayName": "Dharmanath PATIL",
      "photoUrl": "https://lh3.googleusercontent.com/a-/AAuE7mC6ge8KNDISjWm-FphDTvfeEhrPZkXjmizWV21HJg=s64",
      "userId": "15515686314360430415"
     },
     "user_tz": -330
    },
    "id": "Us-1yAiRanmp",
    "outputId": "2fd4cf0b-8ddf-436f-b0b1-285266458dea"
   },
   "outputs": [
    {
     "data": {
      "text/plain": [
       "0.8809523809523809"
      ]
     },
     "execution_count": 49,
     "metadata": {},
     "output_type": "execute_result"
    }
   ],
   "source": [
    "accuracy_score(Y_test,XGB_pred)"
   ]
  },
  {
   "cell_type": "code",
   "execution_count": 50,
   "metadata": {
    "ExecuteTime": {
     "end_time": "2021-09-26T01:07:27.328756Z",
     "start_time": "2021-09-26T01:07:27.320778Z"
    },
    "colab": {
     "base_uri": "https://localhost:8080/",
     "height": 52
    },
    "colab_type": "code",
    "executionInfo": {
     "elapsed": 823,
     "status": "ok",
     "timestamp": 1570673206117,
     "user": {
      "displayName": "Dharmanath PATIL",
      "photoUrl": "https://lh3.googleusercontent.com/a-/AAuE7mC6ge8KNDISjWm-FphDTvfeEhrPZkXjmizWV21HJg=s64",
      "userId": "15515686314360430415"
     },
     "user_tz": -330
    },
    "id": "5bMYdh0Aas6M",
    "outputId": "1796f234-c58f-42ca-aee8-1a3becb49d35"
   },
   "outputs": [
    {
     "data": {
      "text/plain": [
       "array([[19,  2],\n",
       "       [ 3, 18]], dtype=int64)"
      ]
     },
     "execution_count": 50,
     "metadata": {},
     "output_type": "execute_result"
    }
   ],
   "source": [
    "confusion_matrix(Y_test,XGB_pred)"
   ]
  },
  {
   "cell_type": "code",
   "execution_count": 51,
   "metadata": {
    "ExecuteTime": {
     "end_time": "2021-09-26T01:07:29.771779Z",
     "start_time": "2021-09-26T01:07:29.756819Z"
    },
    "colab": {
     "base_uri": "https://localhost:8080/",
     "height": 173
    },
    "colab_type": "code",
    "executionInfo": {
     "elapsed": 684,
     "status": "ok",
     "timestamp": 1570673249348,
     "user": {
      "displayName": "Dharmanath PATIL",
      "photoUrl": "https://lh3.googleusercontent.com/a-/AAuE7mC6ge8KNDISjWm-FphDTvfeEhrPZkXjmizWV21HJg=s64",
      "userId": "15515686314360430415"
     },
     "user_tz": -330
    },
    "id": "UFEp9T0lax95",
    "outputId": "e5a8129d-cef5-4b81-fd97-a946ed65f7c7"
   },
   "outputs": [
    {
     "name": "stdout",
     "output_type": "stream",
     "text": [
      "              precision    recall  f1-score   support\n",
      "\n",
      "        Mine       0.86      0.90      0.88        21\n",
      "        Rock       0.90      0.86      0.88        21\n",
      "\n",
      "    accuracy                           0.88        42\n",
      "   macro avg       0.88      0.88      0.88        42\n",
      "weighted avg       0.88      0.88      0.88        42\n",
      "\n"
     ]
    }
   ],
   "source": [
    "print(classification_report(Y_test,XGB_pred))"
   ]
  },
  {
   "cell_type": "markdown",
   "metadata": {
    "colab_type": "text",
    "id": "P2_MMWbVbH7M"
   },
   "source": [
    "# SVC"
   ]
  },
  {
   "cell_type": "markdown",
   "metadata": {
    "colab_type": "text",
    "id": "vSjDRORbcAR_"
   },
   "source": [
    "We should have huge training dataset"
   ]
  },
  {
   "cell_type": "code",
   "execution_count": 52,
   "metadata": {
    "ExecuteTime": {
     "end_time": "2021-09-26T01:07:35.448261Z",
     "start_time": "2021-09-26T01:07:35.436294Z"
    },
    "colab": {
     "base_uri": "https://localhost:8080/",
     "height": 141
    },
    "colab_type": "code",
    "executionInfo": {
     "elapsed": 1425,
     "status": "ok",
     "timestamp": 1570673331446,
     "user": {
      "displayName": "Dharmanath PATIL",
      "photoUrl": "https://lh3.googleusercontent.com/a-/AAuE7mC6ge8KNDISjWm-FphDTvfeEhrPZkXjmizWV21HJg=s64",
      "userId": "15515686314360430415"
     },
     "user_tz": -330
    },
    "id": "jIC2nm6ga8jj",
    "outputId": "cd91349a-ad9d-4757-8d9d-237ea6278e65"
   },
   "outputs": [
    {
     "data": {
      "text/plain": [
       "SVC()"
      ]
     },
     "execution_count": 52,
     "metadata": {},
     "output_type": "execute_result"
    }
   ],
   "source": [
    "from sklearn.svm import SVC\n",
    "SVC_model = SVC()\n",
    "SVC_model.fit(X_train,Y_train)"
   ]
  },
  {
   "cell_type": "code",
   "execution_count": 53,
   "metadata": {
    "ExecuteTime": {
     "end_time": "2021-09-26T01:07:36.114746Z",
     "start_time": "2021-09-26T01:07:36.100784Z"
    },
    "colab": {},
    "colab_type": "code",
    "id": "HbXD_dVwbQbc"
   },
   "outputs": [],
   "source": [
    "SVC_pred = SVC_model.predict(X_test)"
   ]
  },
  {
   "cell_type": "code",
   "execution_count": 54,
   "metadata": {
    "ExecuteTime": {
     "end_time": "2021-09-26T01:07:37.012787Z",
     "start_time": "2021-09-26T01:07:37.000819Z"
    },
    "colab": {
     "base_uri": "https://localhost:8080/",
     "height": 34
    },
    "colab_type": "code",
    "executionInfo": {
     "elapsed": 1011,
     "status": "ok",
     "timestamp": 1570673374466,
     "user": {
      "displayName": "Dharmanath PATIL",
      "photoUrl": "https://lh3.googleusercontent.com/a-/AAuE7mC6ge8KNDISjWm-FphDTvfeEhrPZkXjmizWV21HJg=s64",
      "userId": "15515686314360430415"
     },
     "user_tz": -330
    },
    "id": "bSMxE2BpbVvS",
    "outputId": "2fc1fc77-ef7b-4f53-89ab-fd1fa106368b"
   },
   "outputs": [
    {
     "data": {
      "text/plain": [
       "0.7857142857142857"
      ]
     },
     "execution_count": 54,
     "metadata": {},
     "output_type": "execute_result"
    }
   ],
   "source": [
    "accuracy_score(Y_test,SVC_pred)"
   ]
  },
  {
   "cell_type": "code",
   "execution_count": 55,
   "metadata": {
    "ExecuteTime": {
     "end_time": "2021-09-26T01:07:37.835674Z",
     "start_time": "2021-09-26T01:07:37.826700Z"
    },
    "colab": {
     "base_uri": "https://localhost:8080/",
     "height": 52
    },
    "colab_type": "code",
    "executionInfo": {
     "elapsed": 1042,
     "status": "ok",
     "timestamp": 1570673403432,
     "user": {
      "displayName": "Dharmanath PATIL",
      "photoUrl": "https://lh3.googleusercontent.com/a-/AAuE7mC6ge8KNDISjWm-FphDTvfeEhrPZkXjmizWV21HJg=s64",
      "userId": "15515686314360430415"
     },
     "user_tz": -330
    },
    "id": "Ncfm53aybbBb",
    "outputId": "6d02e1d7-7b76-4411-e2d0-f10d2abffd1f"
   },
   "outputs": [
    {
     "data": {
      "text/plain": [
       "array([[20,  1],\n",
       "       [ 8, 13]], dtype=int64)"
      ]
     },
     "execution_count": 55,
     "metadata": {},
     "output_type": "execute_result"
    }
   ],
   "source": [
    "confusion_matrix(Y_test,SVC_pred)"
   ]
  },
  {
   "cell_type": "markdown",
   "metadata": {
    "colab_type": "text",
    "id": "BPjmm38hcMyu"
   },
   "source": [
    "# decision Tree"
   ]
  },
  {
   "cell_type": "code",
   "execution_count": 56,
   "metadata": {
    "ExecuteTime": {
     "end_time": "2021-09-26T01:07:39.743248Z",
     "start_time": "2021-09-26T01:07:39.312833Z"
    },
    "colab": {
     "base_uri": "https://localhost:8080/",
     "height": 121
    },
    "colab_type": "code",
    "executionInfo": {
     "elapsed": 674,
     "status": "ok",
     "timestamp": 1570673617975,
     "user": {
      "displayName": "Dharmanath PATIL",
      "photoUrl": "https://lh3.googleusercontent.com/a-/AAuE7mC6ge8KNDISjWm-FphDTvfeEhrPZkXjmizWV21HJg=s64",
      "userId": "15515686314360430415"
     },
     "user_tz": -330
    },
    "id": "esc97q3bbiFQ",
    "outputId": "878fb099-4729-4701-cbba-dbd77d965fc3"
   },
   "outputs": [
    {
     "data": {
      "text/plain": [
       "DecisionTreeClassifier()"
      ]
     },
     "execution_count": 56,
     "metadata": {},
     "output_type": "execute_result"
    }
   ],
   "source": [
    "from sklearn.tree import DecisionTreeClassifier\n",
    "DT = DecisionTreeClassifier()\n",
    "DT.fit(X_train,Y_train)"
   ]
  },
  {
   "cell_type": "code",
   "execution_count": 57,
   "metadata": {
    "ExecuteTime": {
     "end_time": "2021-09-26T01:07:40.708838Z",
     "start_time": "2021-09-26T01:07:40.693875Z"
    },
    "colab": {},
    "colab_type": "code",
    "id": "7UMEpF7icWjh"
   },
   "outputs": [],
   "source": [
    "DT_pred = DT.predict(X_test)"
   ]
  },
  {
   "cell_type": "code",
   "execution_count": 58,
   "metadata": {
    "ExecuteTime": {
     "end_time": "2021-09-26T01:07:41.376788Z",
     "start_time": "2021-09-26T01:07:41.363822Z"
    },
    "colab": {
     "base_uri": "https://localhost:8080/",
     "height": 121
    },
    "colab_type": "code",
    "executionInfo": {
     "elapsed": 1907,
     "status": "ok",
     "timestamp": 1570673637138,
     "user": {
      "displayName": "Dharmanath PATIL",
      "photoUrl": "https://lh3.googleusercontent.com/a-/AAuE7mC6ge8KNDISjWm-FphDTvfeEhrPZkXjmizWV21HJg=s64",
      "userId": "15515686314360430415"
     },
     "user_tz": -330
    },
    "id": "YyFjjeOhcaCj",
    "outputId": "d8263cae-79d3-402f-abaa-63de0acdcce1"
   },
   "outputs": [
    {
     "data": {
      "text/plain": [
       "array(['Rock', 'Mine', 'Mine', 'Rock', 'Mine', 'Mine', 'Mine', 'Mine',\n",
       "       'Mine', 'Rock', 'Mine', 'Mine', 'Rock', 'Mine', 'Rock', 'Rock',\n",
       "       'Mine', 'Rock', 'Rock', 'Rock', 'Rock', 'Mine', 'Mine', 'Rock',\n",
       "       'Rock', 'Rock', 'Rock', 'Mine', 'Mine', 'Mine', 'Rock', 'Rock',\n",
       "       'Mine', 'Rock', 'Mine', 'Mine', 'Rock', 'Mine', 'Mine', 'Mine',\n",
       "       'Mine', 'Rock'], dtype=object)"
      ]
     },
     "execution_count": 58,
     "metadata": {},
     "output_type": "execute_result"
    }
   ],
   "source": [
    "DT_pred"
   ]
  },
  {
   "cell_type": "code",
   "execution_count": 59,
   "metadata": {
    "ExecuteTime": {
     "end_time": "2021-09-26T01:07:42.546759Z",
     "start_time": "2021-09-26T01:07:42.530803Z"
    },
    "colab": {
     "base_uri": "https://localhost:8080/",
     "height": 121
    },
    "colab_type": "code",
    "executionInfo": {
     "elapsed": 742,
     "status": "ok",
     "timestamp": 1570673649925,
     "user": {
      "displayName": "Dharmanath PATIL",
      "photoUrl": "https://lh3.googleusercontent.com/a-/AAuE7mC6ge8KNDISjWm-FphDTvfeEhrPZkXjmizWV21HJg=s64",
      "userId": "15515686314360430415"
     },
     "user_tz": -330
    },
    "id": "I7K5yOBWca8Q",
    "outputId": "215077ff-c281-4175-b902-2b62bfc7ee36"
   },
   "outputs": [
    {
     "data": {
      "text/plain": [
       "array(['Rock', 'Rock', 'Rock', 'Rock', 'Mine', 'Rock', 'Mine', 'Mine',\n",
       "       'Rock', 'Mine', 'Rock', 'Mine', 'Rock', 'Mine', 'Rock', 'Rock',\n",
       "       'Mine', 'Rock', 'Rock', 'Rock', 'Mine', 'Rock', 'Rock', 'Rock',\n",
       "       'Rock', 'Mine', 'Mine', 'Mine', 'Mine', 'Mine', 'Rock', 'Mine',\n",
       "       'Mine', 'Rock', 'Mine', 'Mine', 'Mine', 'Mine', 'Rock', 'Mine',\n",
       "       'Mine', 'Rock'], dtype=object)"
      ]
     },
     "execution_count": 59,
     "metadata": {},
     "output_type": "execute_result"
    }
   ],
   "source": [
    "Y_test"
   ]
  },
  {
   "cell_type": "code",
   "execution_count": 60,
   "metadata": {
    "ExecuteTime": {
     "end_time": "2021-09-26T01:07:43.193774Z",
     "start_time": "2021-09-26T01:07:43.184798Z"
    },
    "colab": {
     "base_uri": "https://localhost:8080/",
     "height": 34
    },
    "colab_type": "code",
    "executionInfo": {
     "elapsed": 858,
     "status": "ok",
     "timestamp": 1570673663066,
     "user": {
      "displayName": "Dharmanath PATIL",
      "photoUrl": "https://lh3.googleusercontent.com/a-/AAuE7mC6ge8KNDISjWm-FphDTvfeEhrPZkXjmizWV21HJg=s64",
      "userId": "15515686314360430415"
     },
     "user_tz": -330
    },
    "id": "eieQueofcc0h",
    "outputId": "f85c6591-4d7d-45f3-8900-136c7f98b69b"
   },
   "outputs": [
    {
     "data": {
      "text/plain": [
       "0.6666666666666666"
      ]
     },
     "execution_count": 60,
     "metadata": {},
     "output_type": "execute_result"
    }
   ],
   "source": [
    "accuracy_score(Y_test,DT_pred)"
   ]
  },
  {
   "cell_type": "code",
   "execution_count": 61,
   "metadata": {
    "ExecuteTime": {
     "end_time": "2021-09-26T01:07:43.459063Z",
     "start_time": "2021-09-26T01:07:43.451085Z"
    },
    "colab": {
     "base_uri": "https://localhost:8080/",
     "height": 52
    },
    "colab_type": "code",
    "executionInfo": {
     "elapsed": 691,
     "status": "ok",
     "timestamp": 1570673685192,
     "user": {
      "displayName": "Dharmanath PATIL",
      "photoUrl": "https://lh3.googleusercontent.com/a-/AAuE7mC6ge8KNDISjWm-FphDTvfeEhrPZkXjmizWV21HJg=s64",
      "userId": "15515686314360430415"
     },
     "user_tz": -330
    },
    "id": "wDmcQFaBchhh",
    "outputId": "af4f553c-b30c-43ba-e66e-dcfad9215266"
   },
   "outputs": [
    {
     "data": {
      "text/plain": [
       "array([[15,  6],\n",
       "       [ 8, 13]], dtype=int64)"
      ]
     },
     "execution_count": 61,
     "metadata": {},
     "output_type": "execute_result"
    }
   ],
   "source": [
    "confusion_matrix(Y_test,DT_pred)"
   ]
  },
  {
   "cell_type": "code",
   "execution_count": 62,
   "metadata": {
    "ExecuteTime": {
     "end_time": "2021-09-26T01:07:44.198624Z",
     "start_time": "2021-09-26T01:07:44.180673Z"
    },
    "colab": {
     "base_uri": "https://localhost:8080/",
     "height": 173
    },
    "colab_type": "code",
    "executionInfo": {
     "elapsed": 660,
     "status": "ok",
     "timestamp": 1570673696851,
     "user": {
      "displayName": "Dharmanath PATIL",
      "photoUrl": "https://lh3.googleusercontent.com/a-/AAuE7mC6ge8KNDISjWm-FphDTvfeEhrPZkXjmizWV21HJg=s64",
      "userId": "15515686314360430415"
     },
     "user_tz": -330
    },
    "id": "GUj99eDJcm9v",
    "outputId": "bd4c7462-6b98-4eb9-fc61-07eaede02481"
   },
   "outputs": [
    {
     "name": "stdout",
     "output_type": "stream",
     "text": [
      "              precision    recall  f1-score   support\n",
      "\n",
      "        Mine       0.65      0.71      0.68        21\n",
      "        Rock       0.68      0.62      0.65        21\n",
      "\n",
      "    accuracy                           0.67        42\n",
      "   macro avg       0.67      0.67      0.67        42\n",
      "weighted avg       0.67      0.67      0.67        42\n",
      "\n"
     ]
    }
   ],
   "source": [
    "print(classification_report(Y_test,DT_pred))"
   ]
  },
  {
   "cell_type": "markdown",
   "metadata": {
    "colab_type": "text",
    "id": "7f9DVtLec0nr"
   },
   "source": [
    "# Random Forest"
   ]
  },
  {
   "cell_type": "code",
   "execution_count": 63,
   "metadata": {
    "ExecuteTime": {
     "end_time": "2021-09-26T01:07:48.047839Z",
     "start_time": "2021-09-26T01:07:47.742705Z"
    },
    "colab": {
     "base_uri": "https://localhost:8080/",
     "height": 193
    },
    "colab_type": "code",
    "executionInfo": {
     "elapsed": 723,
     "status": "ok",
     "timestamp": 1570673786874,
     "user": {
      "displayName": "Dharmanath PATIL",
      "photoUrl": "https://lh3.googleusercontent.com/a-/AAuE7mC6ge8KNDISjWm-FphDTvfeEhrPZkXjmizWV21HJg=s64",
      "userId": "15515686314360430415"
     },
     "user_tz": -330
    },
    "id": "HYaCRxiJcp0A",
    "outputId": "d16ec51a-acea-458f-dbed-304325c53975"
   },
   "outputs": [
    {
     "data": {
      "text/plain": [
       "RandomForestClassifier()"
      ]
     },
     "execution_count": 63,
     "metadata": {},
     "output_type": "execute_result"
    }
   ],
   "source": [
    "from sklearn.ensemble import RandomForestClassifier\n",
    "RF = RandomForestClassifier()\n",
    "RF.fit(X_train,Y_train)"
   ]
  },
  {
   "cell_type": "code",
   "execution_count": 64,
   "metadata": {
    "ExecuteTime": {
     "end_time": "2021-09-26T01:07:48.220466Z",
     "start_time": "2021-09-26T01:07:48.190546Z"
    },
    "colab": {},
    "colab_type": "code",
    "id": "OjoQvU1fc_yW"
   },
   "outputs": [],
   "source": [
    "RF_pred = RF.predict(X_test)"
   ]
  },
  {
   "cell_type": "code",
   "execution_count": 65,
   "metadata": {
    "ExecuteTime": {
     "end_time": "2021-09-26T01:07:49.702808Z",
     "start_time": "2021-09-26T01:07:49.692804Z"
    },
    "colab": {
     "base_uri": "https://localhost:8080/",
     "height": 34
    },
    "colab_type": "code",
    "executionInfo": {
     "elapsed": 847,
     "status": "ok",
     "timestamp": 1570673818635,
     "user": {
      "displayName": "Dharmanath PATIL",
      "photoUrl": "https://lh3.googleusercontent.com/a-/AAuE7mC6ge8KNDISjWm-FphDTvfeEhrPZkXjmizWV21HJg=s64",
      "userId": "15515686314360430415"
     },
     "user_tz": -330
    },
    "id": "hX7e4-gEdDsQ",
    "outputId": "0e5cef79-ed95-4298-af40-62faf2b41738"
   },
   "outputs": [
    {
     "data": {
      "text/plain": [
       "0.8095238095238095"
      ]
     },
     "execution_count": 65,
     "metadata": {},
     "output_type": "execute_result"
    }
   ],
   "source": [
    "accuracy_score(Y_test,RF_pred)"
   ]
  },
  {
   "cell_type": "code",
   "execution_count": 66,
   "metadata": {
    "ExecuteTime": {
     "end_time": "2021-09-26T01:07:49.998982Z",
     "start_time": "2021-09-26T01:07:49.979035Z"
    },
    "colab": {
     "base_uri": "https://localhost:8080/",
     "height": 52
    },
    "colab_type": "code",
    "executionInfo": {
     "elapsed": 803,
     "status": "ok",
     "timestamp": 1570673843572,
     "user": {
      "displayName": "Dharmanath PATIL",
      "photoUrl": "https://lh3.googleusercontent.com/a-/AAuE7mC6ge8KNDISjWm-FphDTvfeEhrPZkXjmizWV21HJg=s64",
      "userId": "15515686314360430415"
     },
     "user_tz": -330
    },
    "id": "WEXLdjBndGju",
    "outputId": "42abf7f9-d7e9-4d04-ee5a-e5118113d3b9"
   },
   "outputs": [
    {
     "data": {
      "text/plain": [
       "array([[19,  2],\n",
       "       [ 6, 15]], dtype=int64)"
      ]
     },
     "execution_count": 66,
     "metadata": {},
     "output_type": "execute_result"
    }
   ],
   "source": [
    "confusion_matrix(Y_test,RF_pred)"
   ]
  },
  {
   "cell_type": "code",
   "execution_count": 67,
   "metadata": {
    "ExecuteTime": {
     "end_time": "2021-09-26T01:07:50.695674Z",
     "start_time": "2021-09-26T01:07:50.672737Z"
    },
    "colab": {
     "base_uri": "https://localhost:8080/",
     "height": 173
    },
    "colab_type": "code",
    "executionInfo": {
     "elapsed": 694,
     "status": "ok",
     "timestamp": 1570673873013,
     "user": {
      "displayName": "Dharmanath PATIL",
      "photoUrl": "https://lh3.googleusercontent.com/a-/AAuE7mC6ge8KNDISjWm-FphDTvfeEhrPZkXjmizWV21HJg=s64",
      "userId": "15515686314360430415"
     },
     "user_tz": -330
    },
    "id": "0bT4QGcodNm1",
    "outputId": "18660146-e02b-4444-dcb6-38e7283d58b2"
   },
   "outputs": [
    {
     "name": "stdout",
     "output_type": "stream",
     "text": [
      "              precision    recall  f1-score   support\n",
      "\n",
      "        Mine       0.76      0.90      0.83        21\n",
      "        Rock       0.88      0.71      0.79        21\n",
      "\n",
      "    accuracy                           0.81        42\n",
      "   macro avg       0.82      0.81      0.81        42\n",
      "weighted avg       0.82      0.81      0.81        42\n",
      "\n"
     ]
    }
   ],
   "source": [
    "print(classification_report(Y_test,RF_pred))"
   ]
  },
  {
   "cell_type": "markdown",
   "metadata": {
    "colab_type": "text",
    "id": "HXLSkuqEdhSJ"
   },
   "source": [
    "# Comparision"
   ]
  },
  {
   "cell_type": "code",
   "execution_count": 68,
   "metadata": {
    "ExecuteTime": {
     "end_time": "2021-09-26T01:07:52.162703Z",
     "start_time": "2021-09-26T01:07:52.154725Z"
    },
    "colab": {},
    "colab_type": "code",
    "id": "3B155rfydU0b"
   },
   "outputs": [],
   "source": [
    "LR_ACC = accuracy_score(Y_test,LR_pred)\n",
    "NB_ACC = accuracy_score(Y_test,NB_pred)\n",
    "XGB_ACC = accuracy_score(Y_test,XGB_pred)\n",
    "SVC_ACC = accuracy_score(Y_test,SVC_pred)\n",
    "DT_ACC = accuracy_score(Y_test,DT_pred)\n",
    "RF_ACC = accuracy_score(Y_test,RF_pred)"
   ]
  },
  {
   "cell_type": "code",
   "execution_count": 69,
   "metadata": {
    "ExecuteTime": {
     "end_time": "2021-09-26T01:07:53.028753Z",
     "start_time": "2021-09-26T01:07:53.018778Z"
    },
    "colab": {
     "base_uri": "https://localhost:8080/",
     "height": 121
    },
    "colab_type": "code",
    "executionInfo": {
     "elapsed": 773,
     "status": "ok",
     "timestamp": 1570674183988,
     "user": {
      "displayName": "Dharmanath PATIL",
      "photoUrl": "https://lh3.googleusercontent.com/a-/AAuE7mC6ge8KNDISjWm-FphDTvfeEhrPZkXjmizWV21HJg=s64",
      "userId": "15515686314360430415"
     },
     "user_tz": -330
    },
    "id": "9lNwPec2eaDO",
    "outputId": "58114769-64fc-4a2d-8050-1f87f7e4cd58"
   },
   "outputs": [
    {
     "data": {
      "text/plain": [
       "[0.8333333333333334,\n",
       " 0.6666666666666666,\n",
       " 0.8809523809523809,\n",
       " 0.7857142857142857,\n",
       " 0.6666666666666666,\n",
       " 0.8095238095238095]"
      ]
     },
     "execution_count": 69,
     "metadata": {},
     "output_type": "execute_result"
    }
   ],
   "source": [
    "[LR_ACC, NB_ACC, XGB_ACC, SVC_ACC, DT_ACC, RF_ACC]"
   ]
  },
  {
   "cell_type": "code",
   "execution_count": 70,
   "metadata": {
    "ExecuteTime": {
     "end_time": "2021-09-26T01:07:54.477658Z",
     "start_time": "2021-09-26T01:07:54.312690Z"
    },
    "colab": {
     "base_uri": "https://localhost:8080/",
     "height": 269
    },
    "colab_type": "code",
    "executionInfo": {
     "elapsed": 841,
     "status": "ok",
     "timestamp": 1570674320582,
     "user": {
      "displayName": "Dharmanath PATIL",
      "photoUrl": "https://lh3.googleusercontent.com/a-/AAuE7mC6ge8KNDISjWm-FphDTvfeEhrPZkXjmizWV21HJg=s64",
      "userId": "15515686314360430415"
     },
     "user_tz": -330
    },
    "id": "Kbje43E9egtk",
    "outputId": "37f8fc9f-bc19-485a-930c-cd50ead79dca"
   },
   "outputs": [
    {
     "data": {
      "image/png": "[encoded data removed]",
      "text/plain": [
       "<Figure size 432x288 with 1 Axes>"
      ]
     },
     "metadata": {
      "needs_background": "light"
     },
     "output_type": "display_data"
    }
   ],
   "source": [
    "import matplotlib.pyplot as plt\n",
    "import numpy as np\n",
    "%matplotlib inline\n",
    "fig, ax = plt.subplots()\n",
    "ax.set_xticks(np.arange(6))\n",
    "ax.set_xticklabels([\"LR\",\"NB\",\"XGB\",\"SVC\",\"DT\",\"RF\"])\n",
    "plt.bar(range(6),[LR_ACC, NB_ACC, XGB_ACC, SVC_ACC, DT_ACC, RF_ACC])\n",
    "plt.show()"
   ]
  },
  {
   "cell_type": "markdown",
   "metadata": {},
   "source": [
    "# Ensemble"
   ]
  },
  {
   "cell_type": "code",
   "execution_count": 71,
   "metadata": {
    "ExecuteTime": {
     "end_time": "2021-09-26T01:07:59.602270Z",
     "start_time": "2021-09-26T01:07:59.042637Z"
    },
    "colab": {
     "base_uri": "https://localhost:8080/",
     "height": 627
    },
    "colab_type": "code",
    "executionInfo": {
     "elapsed": 692,
     "status": "ok",
     "timestamp": 1570674514024,
     "user": {
      "displayName": "Dharmanath PATIL",
      "photoUrl": "https://lh3.googleusercontent.com/a-/AAuE7mC6ge8KNDISjWm-FphDTvfeEhrPZkXjmizWV21HJg=s64",
      "userId": "15515686314360430415"
     },
     "user_tz": -330
    },
    "id": "0dM4Lhnhe7Pf",
    "outputId": "e348cb8b-237a-47f9-e724-ce57fd2f7953"
   },
   "outputs": [
    {
     "name": "stderr",
     "output_type": "stream",
     "text": [
      "C:\\Users\\anemati\\Anaconda3\\envs\\tensorflow\\lib\\site-packages\\xgboost\\sklearn.py:1146: UserWarning: The use of label encoder in XGBClassifier is deprecated and will be removed in a future release. To remove this warning, do the following: 1) Pass option use_label_encoder=False when constructing XGBClassifier object; and 2) Encode your labels (y) as integers starting with 0, i.e. 0, 1, 2, ..., [num_class - 1].\n",
      "  warnings.warn(label_encoder_deprecation_msg, UserWarning)\n"
     ]
    },
    {
     "name": "stdout",
     "output_type": "stream",
     "text": [
      "[20:07:59] WARNING: C:/Users/Administrator/workspace/xgboost-win64_release_1.4.0/src/learner.cc:1095: Starting in XGBoost 1.3.0, the default evaluation metric used with the objective 'binary:logistic' was changed from 'error' to 'logloss'. Explicitly set eval_metric if you'd like to restore the old behavior.\n"
     ]
    },
    {
     "data": {
      "text/plain": [
       "VotingClassifier(estimators=[('lr', LogisticRegression(random_state=0)),\n",
       "                             ('XGB',\n",
       "                              XGBClassifier(base_score=0.5, booster='gbtree',\n",
       "                                            colsample_bylevel=1,\n",
       "                                            colsample_bynode=1,\n",
       "                                            colsample_bytree=1, gamma=0,\n",
       "                                            gpu_id=-1, importance_type='gain',\n",
       "                                            interaction_constraints='',\n",
       "                                            learning_rate=0.300000012,\n",
       "                                            max_delta_step=0, max_depth=6,\n",
       "                                            min_child_weight=1, missing=nan,\n",
       "                                            monotone_constraints='()',\n",
       "                                            n_estimators=100, n_jobs=4,\n",
       "                                            num_parallel_tree=1, random_state=0,\n",
       "                                            reg_alpha=0, reg_lambda=1,\n",
       "                                            scale_pos_weight=1, subsample=1,\n",
       "                                            tree_method='exact',\n",
       "                                            validate_parameters=1,\n",
       "                                            verbosity=None)),\n",
       "                             ('RF', RandomForestClassifier())],\n",
       "                 voting='soft')"
      ]
     },
     "execution_count": 71,
     "metadata": {},
     "output_type": "execute_result"
    }
   ],
   "source": [
    "from sklearn.ensemble import VotingClassifier\n",
    "voter = VotingClassifier(estimators=[('lr',LR),('XGB',XGB),('RF',RF)],voting='soft')\n",
    "voter.fit(X_train,Y_train)"
   ]
  },
  {
   "cell_type": "code",
   "execution_count": 72,
   "metadata": {
    "ExecuteTime": {
     "end_time": "2021-09-26T01:08:02.209679Z",
     "start_time": "2021-09-26T01:08:02.172778Z"
    },
    "colab": {},
    "colab_type": "code",
    "id": "bXtUW35LfxT7"
   },
   "outputs": [],
   "source": [
    "voter_pred = voter.predict(X_test)"
   ]
  },
  {
   "cell_type": "code",
   "execution_count": 73,
   "metadata": {
    "ExecuteTime": {
     "end_time": "2021-09-26T01:08:02.980559Z",
     "start_time": "2021-09-26T01:08:02.960614Z"
    },
    "colab": {
     "base_uri": "https://localhost:8080/",
     "height": 34
    },
    "colab_type": "code",
    "executionInfo": {
     "elapsed": 630,
     "status": "ok",
     "timestamp": 1570674548860,
     "user": {
      "displayName": "Dharmanath PATIL",
      "photoUrl": "https://lh3.googleusercontent.com/a-/AAuE7mC6ge8KNDISjWm-FphDTvfeEhrPZkXjmizWV21HJg=s64",
      "userId": "15515686314360430415"
     },
     "user_tz": -330
    },
    "id": "qZ5UukWif2nk",
    "outputId": "1ec85cad-696f-4f25-b310-55cd48f75b3b"
   },
   "outputs": [
    {
     "data": {
      "text/plain": [
       "0.8809523809523809"
      ]
     },
     "execution_count": 73,
     "metadata": {},
     "output_type": "execute_result"
    }
   ],
   "source": [
    "accuracy_score(Y_test,voter_pred)"
   ]
  },
  {
   "cell_type": "code",
   "execution_count": null,
   "metadata": {},
   "outputs": [],
   "source": []
  }
 ],
 "metadata": {
  "colab": {
   "name": "DRDO_case_study.ipynb",
   "provenance": []
  },
  "kernelspec": {
   "display_name": "pyspark _ python",
   "language": "python",
   "name": "python3"
  },
  "language_info": {
   "codemirror_mode": {
    "name": "ipython",
    "version": 3
   },
   "file_extension": ".py",
   "mimetype": "text/x-python",
   "name": "python",
   "nbconvert_exporter": "python",
   "pygments_lexer": "ipython3",
   "version": "3.7.7"
  },
  "toc": {
   "base_numbering": 1,
   "nav_menu": {},
   "number_sections": true,
   "sideBar": true,
   "skip_h1_title": false,
   "title_cell": "Table of Contents",
   "title_sidebar": "Contents",
   "toc_cell": false,
   "toc_position": {},
   "toc_section_display": true,
   "toc_window_display": true
  }
 },
 "nbformat": 4,
 "nbformat_minor": 1
}
