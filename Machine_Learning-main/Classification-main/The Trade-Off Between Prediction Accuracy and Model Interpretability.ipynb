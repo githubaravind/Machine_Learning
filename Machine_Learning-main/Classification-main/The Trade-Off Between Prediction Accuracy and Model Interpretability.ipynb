{
 "cells": [
  {
   "cell_type": "markdown",
   "id": "crazy-tissue",
   "metadata": {
    "toc": true
   },
   "source": [
    "<h1>Table of Contents<span class=\"tocSkip\"></span></h1>\n",
    "<div class=\"toc\"><ul class=\"toc-item\"><li><span><a href=\"#The-Trade-Off-Between-Prediction-Accuracy-and-Model-Interpretability\" data-toc-modified-id=\"The-Trade-Off-Between-Prediction-Accuracy-and-Model-Interpretability-1\"><span class=\"toc-item-num\">1&nbsp;&nbsp;</span>The Trade-Off Between Prediction Accuracy and Model Interpretability</a></span></li></ul></div>"
   ]
  },
  {
   "cell_type": "markdown",
   "id": "respiratory-belarus",
   "metadata": {},
   "source": [
    "# The Trade-Off Between Prediction Accuracy and Model Interpretability\n"
   ]
  },
  {
   "cell_type": "markdown",
   "id": "laden-thousand",
   "metadata": {
    "ExecuteTime": {
     "end_time": "2021-08-02T02:11:52.075661Z",
     "start_time": "2021-08-02T02:11:52.067688Z"
    }
   },
   "source": [
    "\n",
    "A representation of the tradeoff between flexibility and interpretability, using different statistical learning methods. In general, as the flexibility of a method increases, its interpretability decreases.\n",
    "\n",
    " higher accuracies than the transparent ones, one often only has to pay a quite limited penalty in terms of predictive performance when choosing an interpretable model.\n",
    "\n",
    "![](./i/trade_off_5.png)\n",
    "\n",
    "![](./i/trade_off_6.png)\n"
   ]
  }
 ],
 "metadata": {
  "kernelspec": {
   "display_name": "tensorflow",
   "language": "python",
   "name": "tensorflow"
  },
  "language_info": {
   "codemirror_mode": {
    "name": "ipython",
    "version": 3
   },
   "file_extension": ".py",
   "mimetype": "text/x-python",
   "name": "python",
   "nbconvert_exporter": "python",
   "pygments_lexer": "ipython3",
   "version": "3.7.9"
  },
  "toc": {
   "base_numbering": 1,
   "nav_menu": {},
   "number_sections": true,
   "sideBar": true,
   "skip_h1_title": false,
   "title_cell": "Table of Contents",
   "title_sidebar": "Contents",
   "toc_cell": true,
   "toc_position": {},
   "toc_section_display": true,
   "toc_window_display": true
  }
 },
 "nbformat": 4,
 "nbformat_minor": 5
}
