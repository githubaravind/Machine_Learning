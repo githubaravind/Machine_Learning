{
 "cells": [
  {
   "cell_type": "markdown",
   "id": "retired-desperate",
   "metadata": {
    "toc": true
   },
   "source": [
    "<h1>Table of Contents<span class=\"tocSkip\"></span></h1>\n",
    "<div class=\"toc\"><ul class=\"toc-item\"><li><span><a href=\"#What-are-model-selection-and-model-evaluation?\" data-toc-modified-id=\"What-are-model-selection-and-model-evaluation?-1\"><span class=\"toc-item-num\">1&nbsp;&nbsp;</span>What are model selection and model evaluation?</a></span><ul class=\"toc-item\"><li><span><a href=\"#Model-evaluation\" data-toc-modified-id=\"Model-evaluation-1.1\"><span class=\"toc-item-num\">1.1&nbsp;&nbsp;</span>Model evaluation</a></span></li><li><span><a href=\"#Model-selection\" data-toc-modified-id=\"Model-selection-1.2\"><span class=\"toc-item-num\">1.2&nbsp;&nbsp;</span>Model selection</a></span></li></ul></li></ul></div>"
   ]
  },
  {
   "cell_type": "markdown",
   "id": "backed-revelation",
   "metadata": {},
   "source": [
    "# What are model selection and model evaluation?\n",
    "\n",
    "## Model evaluation \n",
    "is a method of assessing the correctness of models on test data. The test data consists of data points that have not been seen by the model before.\n",
    "## Model selection \n",
    "is a technique for selecting the best model after the individual models are evaluated based on the required criteria."
   ]
  },
  {
   "cell_type": "markdown",
   "id": "married-visit",
   "metadata": {},
   "source": [
    "# Model selection\n",
    "\n",
    "## Resampling methods\n",
    "Resampling methods, as the name suggests, are simple techniques of rearranging data samples to inspect if the model performs well on data samples that it has not been trained on. In other words, resampling helps us understand if the model will generalize well.\n",
    "\n",
    "## Random Split\n",
    "Random Splits are used to randomly sample a percentage of data into training, testing, and preferably validation sets. The advantage of this method is that there is a good chance that the original population is well represented in all the three sets. In more formal terms, random splitting will prevent a biased sampling of data.\n",
    "\n",
    "It is very important to note the use of the validation set in model selection. The validation set is the second test set and one might ask, why have two test sets?\n",
    "\n",
    "In the process of feature selection and model tuning, the test set is used for model evaluation. This means that the model parameters and the feature set are selected such that they give an optimal result on the test set. Thus, the validation set which has completely unseen data points (not been used in the tuning and feature selection modules) is used for the final evaluation."
   ]
  }
 ],
 "metadata": {
  "kernelspec": {
   "display_name": "tensorflow",
   "language": "python",
   "name": "tensorflow"
  },
  "language_info": {
   "codemirror_mode": {
    "name": "ipython",
    "version": 3
   },
   "file_extension": ".py",
   "mimetype": "text/x-python",
   "name": "python",
   "nbconvert_exporter": "python",
   "pygments_lexer": "ipython3",
   "version": "3.7.9"
  },
  "toc": {
   "base_numbering": 1,
   "nav_menu": {},
   "number_sections": true,
   "sideBar": true,
   "skip_h1_title": false,
   "title_cell": "Table of Contents",
   "title_sidebar": "Contents",
   "toc_cell": true,
   "toc_position": {},
   "toc_section_display": true,
   "toc_window_display": true
  }
 },
 "nbformat": 4,
 "nbformat_minor": 5
}
