{
 "cells": [
  {
   "cell_type": "markdown",
   "id": "b81ab00f",
   "metadata": {},
   "source": [
    "# NLP - Regex"
   ]
  },
  {
   "cell_type": "code",
   "execution_count": 1,
   "id": "2474747d",
   "metadata": {},
   "outputs": [
    {
     "name": "stdout",
     "output_type": "stream",
     "text": [
      "['i', 'me', 'my', 'myself', 'we', 'our', 'ours', 'ourselves', 'you', \"you're\", \"you've\", \"you'll\", \"you'd\", 'your', 'yours', 'yourself', 'yourselves', 'he', 'him', 'his', 'himself', 'she', \"she's\", 'her', 'hers', 'herself', 'it', \"it's\", 'its', 'itself']\n"
     ]
    },
    {
     "name": "stderr",
     "output_type": "stream",
     "text": [
      "[nltk_data] Downloading package stopwords to\n",
      "[nltk_data]     C:\\Users\\Shubham\\AppData\\Roaming\\nltk_data...\n",
      "[nltk_data]   Package stopwords is already up-to-date!\n"
     ]
    }
   ],
   "source": [
    "import nltk\n",
    "nltk.download('stopwords')\n",
    "from nltk.corpus import stopwords\n",
    "\n",
    "stopwords = stopwords.words('english')[0:30]\n",
    "print(stopwords)"
   ]
  },
  {
   "cell_type": "code",
   "execution_count": 10,
   "id": "7a51ecc9",
   "metadata": {},
   "outputs": [
    {
     "data": {
      "text/plain": [
       "\"ham\\tI've been searching for the right words to thank you for this breather. I promise i wont take your help for granted and will fulfil my promise. You have been wonderful and a blessing at all times.\\nspam\\tFree entry in 2 a wkly comp to win FA Cup final tkts 21st May 2005. Text FA to 87121 to receive entry question(std txt rate)T&C's apply 08452810075over18's\\nham\\tNah I don't think he goes to usf, he lives around here though\\nham\\tEven my brother is not like to speak with me. They treat me like aid\""
      ]
     },
     "execution_count": 10,
     "metadata": {},
     "output_type": "execute_result"
    }
   ],
   "source": [
    "### Read in Semi-Structured Text data\n",
    "raw_data = open(\"SMSSpamCollection.tsv\").read()\n",
    "\n",
    "# print raw data\n",
    "raw_data[0:500]"
   ]
  },
  {
   "cell_type": "code",
   "execution_count": 15,
   "id": "5ee78c3b",
   "metadata": {},
   "outputs": [
    {
     "data": {
      "text/plain": [
       "['ham',\n",
       " \"I've been searching for the right words to thank you for this breather. I promise i wont take your help for granted and will fulfil my promise. You have been wonderful and a blessing at all times.\",\n",
       " 'spam',\n",
       " \"Free entry in 2 a wkly comp to win FA Cup final tkts 21st May 2005. Text FA to 87121 to receive entry question(std txt rate)T&C's apply 08452810075over18's\",\n",
       " 'ham']"
      ]
     },
     "execution_count": 15,
     "metadata": {},
     "output_type": "execute_result"
    }
   ],
   "source": [
    "# replace tabs with new lines\n",
    "parsed_data = raw_data.replace(\"\\t\", \"\\n\")\n",
    "\n",
    "# create list of sentences\n",
    "parsed_data = parsed_data.split(\"\\n\")\n",
    "\n",
    "parsed_data[0:5]"
   ]
  },
  {
   "cell_type": "code",
   "execution_count": 27,
   "id": "8d0444df",
   "metadata": {},
   "outputs": [
    {
     "name": "stdout",
     "output_type": "stream",
     "text": [
      "Labels in data\n",
      "\n",
      "\n",
      "['ham', 'spam', 'ham', 'ham', 'ham', 'ham', 'spam', 'spam', 'ham', 'spam', 'spam', 'spam', 'ham', 'ham', 'ham', 'spam', 'ham', 'ham', 'ham', 'ham']\n",
      "\n",
      "\n",
      "Text in data\n",
      "\n",
      "\n",
      "[\"I've been searching for the right words to thank you for this breather. I promise i wont take your help for granted and will fulfil my promise. You have been wonderful and a blessing at all times.\", \"Free entry in 2 a wkly comp to win FA Cup final tkts 21st May 2005. Text FA to 87121 to receive entry question(std txt rate)T&C's apply 08452810075over18's\", \"Nah I don't think he goes to usf, he lives around here though\", 'Even my brother is not like to speak with me. They treat me like aids patent.', 'I HAVE A DATE ON SUNDAY WITH WILL!!', \"As per your request 'Melle Melle (Oru Minnaminunginte Nurungu Vettam)' has been set as your callertune for all Callers. Press *9 to copy your friends Callertune\", 'WINNER!! As a valued network customer you have been selected to receivea Â£900 prize reward! To claim call 09061701461. Claim code KL341. Valid 12 hours only.', 'Had your mobile 11 months or more? U R entitled to Update to the latest colour mobiles with camera for Free! Call The Mobile Update Co FREE on 08002986030', \"I'm gonna be home soon and i don't want to talk about this stuff anymore tonight, k? I've cried enough today.\", 'SIX chances to win CASH! From 100 to 20,000 pounds txt> CSH11 and send to 87575. Cost 150p/day, 6days, 16+ TsandCs apply Reply HL 4 info', 'URGENT! You have won a 1 week FREE membership in our Â£100,000 Prize Jackpot! Txt the word: CLAIM to No: 81010 T&C www.dbuk.net LCCLTD POBOX 4403LDNW1A7RW18', 'XXXMobileMovieClub: To use your credit, click the WAP link in the next txt message or click here>> http://wap. xxxmobilemovieclub.com?n=QJKGIGHJJGCBL', \"Oh k...i'm watching here:)\", 'Eh u remember how 2 spell his name... Yes i did. He v naughty make until i v wet.', 'Fine if thatÂ’s the way u feel. ThatÂ’s the way its gota b', 'England v Macedonia - dont miss the goals/team news. Txt ur national team to 87077 eg ENGLAND to 87077 Try:WALES, SCOTLAND 4txt/Ãº1.20 POBOXox36504W45WQ 16+', 'Is that seriously how you spell his name?', 'Iâ€˜m going to try for 2 months ha ha only joking', 'So Ã¼ pay first lar... Then when is da stock comin...', 'Aft i finish my lunch then i go str down lor. Ard 3 smth lor. U finish ur lunch already?']\n"
     ]
    }
   ],
   "source": [
    "# separating the text and labels from the data\n",
    "# every alternate element is label\n",
    "\n",
    "label_list = parsed_data[0::2]\n",
    "text_list = parsed_data[1::2]\n",
    "\n",
    "print(\"Labels in data\\n\\n\")\n",
    "print(label_list[0:20])\n",
    "print(\"\\n\\nText in data\\n\\n\")\n",
    "print(text_list[0:20])"
   ]
  },
  {
   "cell_type": "code",
   "execution_count": 24,
   "id": "3cf1af47",
   "metadata": {},
   "outputs": [
    {
     "name": "stdout",
     "output_type": "stream",
     "text": [
      "5571\n",
      "5570\n"
     ]
    }
   ],
   "source": [
    "# printing the length of lists to create a data frame from it\n",
    "print(len(label_list))\n",
    "print(len(text_list))"
   ]
  },
  {
   "cell_type": "code",
   "execution_count": 28,
   "id": "242a48ec",
   "metadata": {},
   "outputs": [
    {
     "name": "stdout",
     "output_type": "stream",
     "text": [
      "['ham', 'ham', 'ham', 'ham', '']\n",
      "5570\n",
      "5570\n"
     ]
    }
   ],
   "source": [
    "# printing the last element to see if we can do something with different sizes of list\n",
    "print(label_list[-5:])\n",
    "\n",
    "# deleting the last element as it is blank\n",
    "label_list = label_list[-2::-1]\n",
    "\n",
    "print(len(label_list))\n",
    "print(len(text_list))"
   ]
  },
  {
   "cell_type": "code",
   "execution_count": 29,
   "id": "2ac0b2e7",
   "metadata": {},
   "outputs": [
    {
     "data": {
      "text/html": [
       "<div>\n",
       "<style scoped>\n",
       "    .dataframe tbody tr th:only-of-type {\n",
       "        vertical-align: middle;\n",
       "    }\n",
       "\n",
       "    .dataframe tbody tr th {\n",
       "        vertical-align: top;\n",
       "    }\n",
       "\n",
       "    .dataframe thead th {\n",
       "        text-align: right;\n",
       "    }\n",
       "</style>\n",
       "<table border=\"1\" class=\"dataframe\">\n",
       "  <thead>\n",
       "    <tr style=\"text-align: right;\">\n",
       "      <th></th>\n",
       "      <th>label</th>\n",
       "      <th>text</th>\n",
       "    </tr>\n",
       "  </thead>\n",
       "  <tbody>\n",
       "    <tr>\n",
       "      <th>0</th>\n",
       "      <td>ham</td>\n",
       "      <td>I've been searching for the right words to tha...</td>\n",
       "    </tr>\n",
       "    <tr>\n",
       "      <th>1</th>\n",
       "      <td>ham</td>\n",
       "      <td>Free entry in 2 a wkly comp to win FA Cup fina...</td>\n",
       "    </tr>\n",
       "    <tr>\n",
       "      <th>2</th>\n",
       "      <td>ham</td>\n",
       "      <td>Nah I don't think he goes to usf, he lives aro...</td>\n",
       "    </tr>\n",
       "    <tr>\n",
       "      <th>3</th>\n",
       "      <td>ham</td>\n",
       "      <td>Even my brother is not like to speak with me. ...</td>\n",
       "    </tr>\n",
       "    <tr>\n",
       "      <th>4</th>\n",
       "      <td>spam</td>\n",
       "      <td>I HAVE A DATE ON SUNDAY WITH WILL!!</td>\n",
       "    </tr>\n",
       "  </tbody>\n",
       "</table>\n",
       "</div>"
      ],
      "text/plain": [
       "  label                                               text\n",
       "0   ham  I've been searching for the right words to tha...\n",
       "1   ham  Free entry in 2 a wkly comp to win FA Cup fina...\n",
       "2   ham  Nah I don't think he goes to usf, he lives aro...\n",
       "3   ham  Even my brother is not like to speak with me. ...\n",
       "4  spam                I HAVE A DATE ON SUNDAY WITH WILL!!"
      ]
     },
     "execution_count": 29,
     "metadata": {},
     "output_type": "execute_result"
    }
   ],
   "source": [
    "# creating the pandas dataframe\n",
    "import pandas as pd\n",
    "\n",
    "full_corpus = pd.DataFrame({'label':label_list, 'text':text_list})\n",
    "full_corpus.head()"
   ]
  },
  {
   "cell_type": "markdown",
   "id": "1a167e5f",
   "metadata": {},
   "source": [
    "## We can read the dataset in similar way if there is \"\\t\" separator"
   ]
  },
  {
   "cell_type": "code",
   "execution_count": 38,
   "id": "f30d27cb",
   "metadata": {},
   "outputs": [
    {
     "data": {
      "text/html": [
       "<div>\n",
       "<style scoped>\n",
       "    .dataframe tbody tr th:only-of-type {\n",
       "        vertical-align: middle;\n",
       "    }\n",
       "\n",
       "    .dataframe tbody tr th {\n",
       "        vertical-align: top;\n",
       "    }\n",
       "\n",
       "    .dataframe thead th {\n",
       "        text-align: right;\n",
       "    }\n",
       "</style>\n",
       "<table border=\"1\" class=\"dataframe\">\n",
       "  <thead>\n",
       "    <tr style=\"text-align: right;\">\n",
       "      <th></th>\n",
       "      <th>label</th>\n",
       "      <th>body_text</th>\n",
       "    </tr>\n",
       "  </thead>\n",
       "  <tbody>\n",
       "    <tr>\n",
       "      <th>0</th>\n",
       "      <td>ham</td>\n",
       "      <td>I've been searching for the right words to tha...</td>\n",
       "    </tr>\n",
       "    <tr>\n",
       "      <th>1</th>\n",
       "      <td>spam</td>\n",
       "      <td>Free entry in 2 a wkly comp to win FA Cup fina...</td>\n",
       "    </tr>\n",
       "    <tr>\n",
       "      <th>2</th>\n",
       "      <td>ham</td>\n",
       "      <td>Nah I don't think he goes to usf, he lives aro...</td>\n",
       "    </tr>\n",
       "    <tr>\n",
       "      <th>3</th>\n",
       "      <td>ham</td>\n",
       "      <td>Even my brother is not like to speak with me. ...</td>\n",
       "    </tr>\n",
       "    <tr>\n",
       "      <th>4</th>\n",
       "      <td>ham</td>\n",
       "      <td>I HAVE A DATE ON SUNDAY WITH WILL!!</td>\n",
       "    </tr>\n",
       "  </tbody>\n",
       "</table>\n",
       "</div>"
      ],
      "text/plain": [
       "  label                                          body_text\n",
       "0   ham  I've been searching for the right words to tha...\n",
       "1  spam  Free entry in 2 a wkly comp to win FA Cup fina...\n",
       "2   ham  Nah I don't think he goes to usf, he lives aro...\n",
       "3   ham  Even my brother is not like to speak with me. ...\n",
       "4   ham                I HAVE A DATE ON SUNDAY WITH WILL!!"
      ]
     },
     "execution_count": 38,
     "metadata": {},
     "output_type": "execute_result"
    }
   ],
   "source": [
    "full_corpus = pd.read_csv(\"SMSSpamCollection.tsv\", header=None, sep='\\t')\n",
    "full_corpus.columns = ['label', 'body_text']\n",
    "full_corpus.head()"
   ]
  },
  {
   "cell_type": "markdown",
   "id": "fd96d4af",
   "metadata": {},
   "source": [
    "# Exporing the Data "
   ]
  },
  {
   "cell_type": "code",
   "execution_count": 39,
   "id": "bddd3808",
   "metadata": {},
   "outputs": [
    {
     "name": "stdout",
     "output_type": "stream",
     "text": [
      "input data has 5568 rows and 2 columns\n"
     ]
    }
   ],
   "source": [
    "# What is shape of data\n",
    "print(\"input data has {} rows and {} columns\".format(len(full_corpus), len(full_corpus.columns)))"
   ]
  },
  {
   "cell_type": "code",
   "execution_count": 40,
   "id": "fe5b2acb",
   "metadata": {},
   "outputs": [
    {
     "name": "stdout",
     "output_type": "stream",
     "text": [
      "out of 5568 rows, 746 are spam, 4822 are hams\n"
     ]
    }
   ],
   "source": [
    "# How many spams/ hams are there?\n",
    "print(\"out of {} rows, {} are spam, {} are hams\".format(len(full_corpus),\n",
    "                                                        len(full_corpus[full_corpus['label']=='spam']),\n",
    "                                                        len(full_corpus[full_corpus['label']=='ham'])))"
   ]
  },
  {
   "cell_type": "code",
   "execution_count": 41,
   "id": "dbb7a4f9",
   "metadata": {},
   "outputs": [
    {
     "name": "stdout",
     "output_type": "stream",
     "text": [
      "number of null in label : 0\n",
      "number of null in Text : 0\n"
     ]
    }
   ],
   "source": [
    "# How much missing data is there?\n",
    "print(\"number of null in label : {}\".format(full_corpus['label'].isnull().sum()))\n",
    "print(\"number of null in Text : {}\".format(full_corpus['body_text'].isnull().sum()))"
   ]
  },
  {
   "cell_type": "markdown",
   "id": "89811c37",
   "metadata": {},
   "source": [
    "# Regular Expressions\n",
    "Text string for describing a search pattern\n",
    "\n",
    "##### Use cases\n",
    "1. Confirming passwords meet criteria\n",
    "2. Searching URL for some substring\n",
    "3. Searching for files on your computer\n",
    "4. Document scrapping\n",
    "\n",
    "### Usefull methods for tokenizing \n",
    "1. findall()\n",
    "2. split()\n",
    "\n",
    "### Usefull regexes for tokenizing\n",
    "1. '\\W' & '\\w' - words\n",
    "2. '\\S' & '\\s' - whitespaces"
   ]
  },
  {
   "cell_type": "code",
   "execution_count": 42,
   "id": "654e96fa",
   "metadata": {},
   "outputs": [],
   "source": [
    "import re\n",
    "\n",
    "re_test = \"This is a made up string to test 2 different regex methods\"\n",
    "re_test_messy = \"This      is a made up      string to test 2 different regex methods\"\n",
    "re_test_messy1 = \"This-is-a-made/up.string*to>>>>>test-----2*******different-regex-methods\""
   ]
  },
  {
   "cell_type": "markdown",
   "id": "db18bb93",
   "metadata": {},
   "source": [
    "### Splitting a sentence into a list words"
   ]
  },
  {
   "cell_type": "markdown",
   "id": "903f71fc",
   "metadata": {},
   "source": [
    "### 1. split()"
   ]
  },
  {
   "cell_type": "code",
   "execution_count": 53,
   "id": "49d0e45d",
   "metadata": {},
   "outputs": [
    {
     "name": "stdout",
     "output_type": "stream",
     "text": [
      "['This', 'is', 'a', 'made', 'up', 'string', 'to', 'test', '2', 'different', 'regex', 'methods']\n"
     ]
    }
   ],
   "source": [
    "print(re.split('\\s', re_test))"
   ]
  },
  {
   "cell_type": "code",
   "execution_count": 54,
   "id": "6cdf1424",
   "metadata": {},
   "outputs": [
    {
     "name": "stdout",
     "output_type": "stream",
     "text": [
      "['This', '', '', '', '', '', 'is', 'a', 'made', 'up', '', '', '', '', '', 'string', 'to', 'test', '2', 'different', 'regex', 'methods']\n"
     ]
    }
   ],
   "source": [
    "print(re.split('\\s', re_test_messy))"
   ]
  },
  {
   "cell_type": "code",
   "execution_count": 56,
   "id": "af5e3b57",
   "metadata": {},
   "outputs": [
    {
     "name": "stdout",
     "output_type": "stream",
     "text": [
      "['This', 'is', 'a', 'made', 'up', 'string', 'to', 'test', '2', 'different', 'regex', 'methods']\n"
     ]
    }
   ],
   "source": [
    "print(re.split('\\s+', re_test_messy))"
   ]
  },
  {
   "cell_type": "code",
   "execution_count": 55,
   "id": "f2f579f3",
   "metadata": {},
   "outputs": [
    {
     "name": "stdout",
     "output_type": "stream",
     "text": [
      "['This-is-a-made/up.string*to>>>>>test-----2*******different-regex-methods']\n"
     ]
    }
   ],
   "source": [
    "print(re.split('\\s', re_test_messy1))"
   ]
  },
  {
   "cell_type": "code",
   "execution_count": 57,
   "id": "2d140869",
   "metadata": {},
   "outputs": [
    {
     "name": "stdout",
     "output_type": "stream",
     "text": [
      "['This', 'is', 'a', 'made', 'up', 'string', 'to', 'test', '2', 'different', 'regex', 'methods']\n"
     ]
    }
   ],
   "source": [
    "print(re.split('\\W+', re_test_messy))"
   ]
  },
  {
   "cell_type": "markdown",
   "id": "724f6917",
   "metadata": {},
   "source": [
    "### 2. findall()"
   ]
  },
  {
   "cell_type": "code",
   "execution_count": 58,
   "id": "b3b73943",
   "metadata": {},
   "outputs": [
    {
     "name": "stdout",
     "output_type": "stream",
     "text": [
      "['      ', ' ', ' ', ' ', '      ', ' ', ' ', ' ', ' ', ' ', ' ']\n"
     ]
    }
   ],
   "source": [
    "print(re.findall('\\s+', re_test_messy))"
   ]
  },
  {
   "cell_type": "code",
   "execution_count": 59,
   "id": "bce10eaa",
   "metadata": {},
   "outputs": [
    {
     "name": "stdout",
     "output_type": "stream",
     "text": [
      "['This', 'is', 'a', 'made', 'up', 'string', 'to', 'test', '2', 'different', 'regex', 'methods']\n"
     ]
    }
   ],
   "source": [
    "print(re.findall('\\S+', re_test_messy))"
   ]
  },
  {
   "cell_type": "code",
   "execution_count": 60,
   "id": "28e31c2b",
   "metadata": {},
   "outputs": [
    {
     "name": "stdout",
     "output_type": "stream",
     "text": [
      "['This', 'is', 'a', 'made', 'up', 'string', 'to', 'test', '2', 'different', 'regex', 'methods']\n"
     ]
    }
   ],
   "source": [
    "print(re.findall('\\w+', re_test_messy1))"
   ]
  },
  {
   "cell_type": "code",
   "execution_count": 61,
   "id": "f28bed8a",
   "metadata": {},
   "outputs": [
    {
     "name": "stdout",
     "output_type": "stream",
     "text": [
      "['-', '-', '-', '/', '.', '*', '>>>>>', '-----', '*******', '-', '-']\n"
     ]
    }
   ],
   "source": [
    "print(re.findall('\\W+', re_test_messy1))"
   ]
  },
  {
   "cell_type": "markdown",
   "id": "fe5af448",
   "metadata": {},
   "source": [
    "## Finding the Specific String"
   ]
  },
  {
   "cell_type": "code",
   "execution_count": 75,
   "id": "804a54a4",
   "metadata": {},
   "outputs": [
    {
     "name": "stdout",
     "output_type": "stream",
     "text": [
      "['t', 'r', 'y', 't', 'o', 'f', 'o', 'l', 'l', 'o', 'w', 'a', 'n', 'd', 'g', 'u', 'i', 'd', 'e', 'l', 'i', 'n', 'e', 's']\n",
      "['try', 'to', 'follow', 'and', 'guidelines']\n",
      "['I', 'UP', 'PEP', 'PE']\n",
      "['1']\n",
      "['followUP']\n",
      "['PEP1']\n"
     ]
    }
   ],
   "source": [
    "re_test = \"I try to followUP PEP1 and PE guidelines\"\n",
    "\n",
    "# find characters of lowr case words\n",
    "print(re.findall('[a-z]', re_test))\n",
    "\n",
    "# find lowercase words\n",
    "print(re.findall('[a-z]+', re_test))\n",
    "\n",
    "# find uppercase words\n",
    "print(re.findall('[A-Z]+', re_test))\n",
    "\n",
    "\n",
    "# find numeric words\n",
    "print(re.findall('[0-9]+', re_test))\n",
    "\n",
    "# find lowercase and uppercase words\n",
    "print(re.findall('[a-z]+[A-Z]+', re_test))\n",
    "\n",
    "# find numerical and uppercase words\n",
    "print(re.findall('[A-Z]+[1-9]+', re_test))"
   ]
  },
  {
   "cell_type": "markdown",
   "id": "d3d9864f",
   "metadata": {},
   "source": [
    "## Replacing the Specific String"
   ]
  },
  {
   "cell_type": "code",
   "execution_count": 77,
   "id": "1336aa73",
   "metadata": {},
   "outputs": [
    {
     "name": "stdout",
     "output_type": "stream",
     "text": [
      "I try to followUP XXXXX String is replaced XXXXX and PE guidelines\n"
     ]
    }
   ],
   "source": [
    "# replace the string that has uppercase and numerical string\n",
    "print(re.sub('[A-Z]+[0-9]+', \"XXXXX String is replaced XXXXX\", re_test))"
   ]
  },
  {
   "cell_type": "markdown",
   "id": "1891a315",
   "metadata": {},
   "source": [
    "# Other methods\n",
    "search()\n",
    "match()\n",
    "fullmatch()\n",
    "finditer()\n",
    "escape()"
   ]
  },
  {
   "cell_type": "code",
   "execution_count": null,
   "id": "1fee13e6",
   "metadata": {},
   "outputs": [],
   "source": []
  }
 ],
 "metadata": {
  "kernelspec": {
   "display_name": "Python 3 (ipykernel)",
   "language": "python",
   "name": "python3"
  },
  "language_info": {
   "codemirror_mode": {
    "name": "ipython",
    "version": 3
   },
   "file_extension": ".py",
   "mimetype": "text/x-python",
   "name": "python",
   "nbconvert_exporter": "python",
   "pygments_lexer": "ipython3",
   "version": "3.9.7"
  }
 },
 "nbformat": 4,
 "nbformat_minor": 5
}
