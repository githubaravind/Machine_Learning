{
 "cells": [
  {
   "cell_type": "markdown",
   "id": "0a0b9a2d",
   "metadata": {},
   "source": [
    "# Natural Language Processing\n",
    "\n",
    "#### NLP \n",
    "Field concerned with ability of computer to understand, analyze, manipulate and potentially generate human language.\n",
    "##### Use cases - \n",
    "1. Sentiment analysis\n",
    "2. Topic modeling\n",
    "3. Text classification\n",
    "4. Sentence generation or part-of-speech tagging\n",
    "\n",
    "#### NLTK\n",
    "Suite of open source tools created to make proceses in python easier to build."
   ]
  },
  {
   "cell_type": "code",
   "execution_count": null,
   "id": "02a4d116",
   "metadata": {},
   "outputs": [
    {
     "name": "stdout",
     "output_type": "stream",
     "text": [
      "showing info https://raw.githubusercontent.com/nltk/nltk_data/gh-pages/index.xml\n"
     ]
    }
   ],
   "source": [
    "import nltk\n",
    "nltk.download()"
   ]
  },
  {
   "cell_type": "code",
   "execution_count": null,
   "id": "8d9cda42",
   "metadata": {},
   "outputs": [],
   "source": [
    "dir(nltk)"
   ]
  },
  {
   "cell_type": "markdown",
   "id": "add6f416",
   "metadata": {},
   "source": [
    "### Stopwords\n",
    "Stopwords are the words which are used frequently but dont really contribute muh to the meaning of sentence.\n",
    "e.g. 'i', 'herself', 'been'"
   ]
  },
  {
   "cell_type": "code",
   "execution_count": null,
   "id": "f5e01d52",
   "metadata": {},
   "outputs": [],
   "source": [
    "from nltk.corpus import stopwords\n",
    "\n",
    "stopwords.words('english')(0:30)"
   ]
  },
  {
   "cell_type": "markdown",
   "id": "887f1edc",
   "metadata": {},
   "source": [
    "### Unstructured data in Text \n",
    "80% of Buissness data is in unstructured or semistructured data format\n",
    "1. Binary data\n",
    "2. No delimiters\n",
    "3. No indication of rows"
   ]
  },
  {
   "cell_type": "code",
   "execution_count": null,
   "id": "17708ea9",
   "metadata": {},
   "outputs": [],
   "source": []
  }
 ],
 "metadata": {
  "kernelspec": {
   "display_name": "Python 3 (ipykernel)",
   "language": "python",
   "name": "python3"
  },
  "language_info": {
   "codemirror_mode": {
    "name": "ipython",
    "version": 3
   },
   "file_extension": ".py",
   "mimetype": "text/x-python",
   "name": "python",
   "nbconvert_exporter": "python",
   "pygments_lexer": "ipython3",
   "version": "3.9.7"
  }
 },
 "nbformat": 4,
 "nbformat_minor": 5
}
