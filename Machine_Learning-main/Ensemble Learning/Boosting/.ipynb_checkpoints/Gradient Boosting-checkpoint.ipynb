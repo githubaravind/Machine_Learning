{
 "cells": [
  {
   "cell_type": "markdown",
   "id": "8d3c1556",
   "metadata": {},
   "source": [
    "# Gradient Boosts\n",
    "\n",
    "It's a optimization technique works on the idea of optimizing the loss function. \n",
    "\n",
    "Loss functions - \n",
    "1. Mean squared error\n",
    "2. Root mean squared error\n",
    "3. Mean bias error\n",
    "\n",
    "Lets consider Mean squared error\n",
    "\n",
    "Step 1. \n",
    "- Base model that predicts constant value, let's assume it as mean of all target data i.e. 500k\n",
    "\n",
    "- Update this value in Base Prediction column.\n",
    "\n",
    "Step 2. \n",
    "\n",
    "- Residual values are found by getting the difference between the prediction column and target value column. \n",
    "\n",
    "- Update this Residual values in Residual-1 column.\n",
    "\n",
    "- This Residuals are basically the errors given by base model, and this errors are the difference between Target value and predicted value measured by various loss functions as mentioned above. \n",
    "\n",
    "Step 3.\n",
    "\n",
    "- Model is defined which fits the Features i.e. Squared feats, No. of bedrooms etc and the Target as Residuals-1 column. \n",
    "\n",
    "- This model is Known as Residual model-1\n",
    "\n",
    "- Now as we fit the Model on the Features and Residual Error as Target, the output predictions of our model are Residuals only and not the Target value which is the Price of Home in this example.\n",
    "\n",
    "- Hence the predictions made by this model is now updated in Residuals-2 column.\n",
    "\n",
    "Step 4.\n",
    "\n",
    "- \n"
   ]
  },
  {
   "cell_type": "code",
   "execution_count": null,
   "id": "247b40cb",
   "metadata": {},
   "outputs": [],
   "source": []
  }
 ],
 "metadata": {
  "kernelspec": {
   "display_name": "Python 3",
   "language": "python",
   "name": "python3"
  },
  "language_info": {
   "codemirror_mode": {
    "name": "ipython",
    "version": 3
   },
   "file_extension": ".py",
   "mimetype": "text/x-python",
   "name": "python",
   "nbconvert_exporter": "python",
   "pygments_lexer": "ipython3",
   "version": "3.9.4"
  }
 },
 "nbformat": 4,
 "nbformat_minor": 5
}
